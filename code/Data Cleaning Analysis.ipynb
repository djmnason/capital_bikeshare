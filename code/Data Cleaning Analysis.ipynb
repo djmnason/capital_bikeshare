{
 "cells": [
  {
   "cell_type": "markdown",
   "id": "890e0117-2900-460b-a170-69b9875c4ade",
   "metadata": {},
   "source": [
    "## data cleaning notebook\n",
    "\n",
    "Goal of data cleaning (see below for further details):\n",
    "\n",
    "1) Account for bike reshuffling between stations \n",
    "\n",
    "2) Generate bike availability at each station so that a predictive model can be made\n",
    "\n",
    "We can measure the amount of bikes at a given station by the count of bike IDs at a station at that point in time. Note that since availability at a given station depends on the starting number of bikes at that station, we need to do a similar analysis for prior data in order to get a starting point of how many bikes initially began at a given station."
   ]
  },
  {
   "cell_type": "code",
   "execution_count": null,
   "id": "1ac67414-adb7-4186-9cc3-9e53f6f7370f",
   "metadata": {},
   "outputs": [],
   "source": [
    "# packages\n",
    "import pandas as pd\n",
    "import datetime as dt\n",
    "import numpy as np"
   ]
  },
  {
   "cell_type": "code",
   "execution_count": null,
   "id": "e5246ca9-b5a9-4ec6-95e1-8f2cebfd0d10",
   "metadata": {},
   "outputs": [],
   "source": [
    "files = ['2019' +'0' + str(i) + '-capitalbikeshare-tripdata.csv' if len(str(i)) == 1 else '2019' + str(i) + '-capitalbikeshare-tripdata.csv' for i in range(1,13)]"
   ]
  },
  {
   "cell_type": "code",
   "execution_count": null,
   "id": "bf478fd3-660f-43f6-9540-567819724ed2",
   "metadata": {},
   "outputs": [],
   "source": [
    "data = pd.concat([pd.read_csv(f, parse_dates = ['Start date', 'End date']) for f in files])"
   ]
  },
  {
   "cell_type": "code",
   "execution_count": null,
   "id": "51c76d6e-6318-45bd-a362-db104da1e206",
   "metadata": {},
   "outputs": [],
   "source": [
    "## cleaning col names\n",
    "data.columns = [\"_\".join(col.split(\" \")).capitalize() for col in data.columns]\n",
    "data.columns"
   ]
  },
  {
   "cell_type": "code",
   "execution_count": null,
   "id": "88acceba",
   "metadata": {},
   "outputs": [],
   "source": [
    "data.Duration.describe().round(2)"
   ]
  },
  {
   "cell_type": "code",
   "execution_count": null,
   "id": "85730288-83de-499d-b1f4-10d6497956ca",
   "metadata": {},
   "outputs": [],
   "source": [
    "## subsetting relevant columns for analysis\n",
    "data = data.loc[:, \"Start_date\":\"Bike_number\"]\n",
    "data.head()"
   ]
  },
  {
   "cell_type": "code",
   "execution_count": null,
   "id": "6ca36cd1",
   "metadata": {},
   "outputs": [],
   "source": [
    "data.shape"
   ]
  },
  {
   "cell_type": "code",
   "execution_count": null,
   "id": "1858fea9",
   "metadata": {},
   "outputs": [],
   "source": [
    "data.dtypes"
   ]
  },
  {
   "cell_type": "code",
   "execution_count": null,
   "id": "8d94e128",
   "metadata": {},
   "outputs": [],
   "source": [
    "data.info()"
   ]
  },
  {
   "cell_type": "code",
   "execution_count": null,
   "id": "727c17ad",
   "metadata": {},
   "outputs": [],
   "source": [
    "data.isnull().sum()"
   ]
  },
  {
   "cell_type": "code",
   "execution_count": null,
   "id": "caccd5ee-8abe-448e-bbdc-c0cd590ded5f",
   "metadata": {},
   "outputs": [],
   "source": [
    "old = pd.read_csv('201812-capitalbikeshare-tripdata.csv', parse_dates = ['Start date', 'End date'])"
   ]
  },
  {
   "cell_type": "code",
   "execution_count": null,
   "id": "d80057a8-c1ef-4bfa-a3be-652dd7f2e4f5",
   "metadata": {},
   "outputs": [],
   "source": [
    "## cleaning col names\n",
    "old.columns = [\"_\".join(col.split(\" \")).capitalize() for col in old.columns]\n",
    "old.columns"
   ]
  },
  {
   "cell_type": "code",
   "execution_count": null,
   "id": "85731ee2-9335-4c46-b018-1796aab988f9",
   "metadata": {},
   "outputs": [],
   "source": [
    "old = old.loc[:, \"Start_date\":\"Bike_number\"]\n",
    "old.head()"
   ]
  },
  {
   "cell_type": "code",
   "execution_count": null,
   "id": "855cbeb8",
   "metadata": {},
   "outputs": [],
   "source": [
    "old.shape"
   ]
  },
  {
   "cell_type": "code",
   "execution_count": null,
   "id": "c19359bf",
   "metadata": {},
   "outputs": [],
   "source": [
    "old.dtypes"
   ]
  },
  {
   "cell_type": "code",
   "execution_count": null,
   "id": "05b4e519",
   "metadata": {},
   "outputs": [],
   "source": [
    "old.info()"
   ]
  },
  {
   "cell_type": "code",
   "execution_count": null,
   "id": "91eb5bb4",
   "metadata": {},
   "outputs": [],
   "source": [
    "old.isnull().sum()"
   ]
  },
  {
   "cell_type": "markdown",
   "id": "40c8ff84-6a6f-43b7-93fe-656ce622f267",
   "metadata": {},
   "source": [
    "### reshuffling\n",
    "\n",
    "Idea: bikes transition from one station to another without a user taking the trip (this is done by contractors who 'reshuffle' vans from one location to the next). To account for this, we need to add rows that account for this reshuffling in order to get a more accurate count of where bikes are and when they're being relocated in order to calculate availability.\n",
    "\n",
    "logic for reshuffling of bike X:\n",
    "\n",
    "- if A --> B and C --> D, X is reshuffled from B to C\n",
    "\n",
    "- A => B, B => Van, Van => C, ..."
   ]
  },
  {
   "cell_type": "code",
   "execution_count": null,
   "id": "d44a34d0",
   "metadata": {},
   "outputs": [],
   "source": [
    "data.Bike_number.isnull().sum() # NAs present, dropping from analysis"
   ]
  },
  {
   "cell_type": "code",
   "execution_count": null,
   "id": "ded05dfd",
   "metadata": {},
   "outputs": [],
   "source": [
    "## variable for looping\n",
    "r_data = data[~data.Bike_number.isna()].sort_values(['Bike_number', 'Start_date']).reset_index(drop = True)\n",
    "r_data.head()"
   ]
  },
  {
   "cell_type": "code",
   "execution_count": null,
   "id": "29052396",
   "metadata": {},
   "outputs": [],
   "source": [
    "## logic for reshuffling of bike X:\n",
    "## if A --> B and C --> D, X is reshuffled from B to C\n",
    "# A => B, B => Van, Van => C, ...\n",
    "\n",
    "data_shuf_list = []\n",
    "i = 0\n",
    "while i < (len(r_data) - 1):\n",
    "    if r_data.loc[i, \"End_station_number\"] != r_data.loc[i + 1, \"Start_station_number\"] and r_data.loc[i, \"Bike_number\"] == r_data.loc[i + 1, \"Bike_number\"]:\n",
    "        # reshuffling # row 1\n",
    "        data_shuf_list.append((r_data.loc[i, \"Start_date\"], r_data.loc[i, \"End_date\"],\n",
    "             # reshuffling line\n",
    "             r_data.loc[i, \"End_station_number\"], r_data.loc[i, \"End_station\"], # new start\n",
    "             1, \"Van\", # new end\n",
    "             r_data.loc[i, \"Bike_number\"]\n",
    "            ))\n",
    "        # row 2\n",
    "        data_shuf_list.append((r_data.loc[i, \"Start_date\"], r_data.loc[i, \"End_date\"],\n",
    "             # reshuffling line\n",
    "             1, \"Van\", # new start\n",
    "             r_data.loc[i + 1, \"Start_station_number\"],r_data.loc[i + 1, \"End_station\"], # new end\n",
    "             r_data.loc[i, \"Bike_number\"]\n",
    "            ))\n",
    "    i += 1 # updating loop"
   ]
  },
  {
   "cell_type": "code",
   "execution_count": null,
   "id": "aa4aeb5b",
   "metadata": {},
   "outputs": [],
   "source": [
    "data_shuf_df = pd.DataFrame(data_shuf_list, columns = data.columns)\n",
    "data_shuf_df.shape"
   ]
  },
  {
   "cell_type": "code",
   "execution_count": null,
   "id": "a983ef13",
   "metadata": {},
   "outputs": [],
   "source": [
    "data_shuf_df.head()"
   ]
  },
  {
   "cell_type": "code",
   "execution_count": null,
   "id": "b4fd92c5",
   "metadata": {
    "scrolled": true
   },
   "outputs": [],
   "source": [
    "data_shuf_df.isna().sum()"
   ]
  },
  {
   "cell_type": "code",
   "execution_count": null,
   "id": "dd0411c6",
   "metadata": {},
   "outputs": [],
   "source": [
    "# data_shuf_df.to_csv('reshuffled_2019.csv') - writing to csv file"
   ]
  },
  {
   "cell_type": "markdown",
   "id": "defef68f",
   "metadata": {},
   "source": [
    "## applying to previous data"
   ]
  },
  {
   "cell_type": "code",
   "execution_count": null,
   "id": "77d9ea59-d82b-4947-b65a-6980ab57b7dc",
   "metadata": {
    "tags": []
   },
   "outputs": [],
   "source": [
    "## variable for looping\n",
    "r_old = old[~old.Bike_number.isna()].sort_values(['Bike_number', 'Start_date']).reset_index(drop = True)\n",
    "r_old.head()"
   ]
  },
  {
   "cell_type": "code",
   "execution_count": null,
   "id": "bdde256e-f28d-4fe9-a1f3-0106792ca7a5",
   "metadata": {},
   "outputs": [],
   "source": [
    "## row reshuffling - old data (similar logic to regular data)\n",
    "\n",
    "old_shuf_list = []\n",
    "i = 0\n",
    "while i < (len(r_old) - 1):\n",
    "    if r_old.loc[i, \"End_station_number\"] != r_old.loc[i + 1, \"Start_station_number\"] and r_old.loc[i, \"Bike_number\"] == r_old.loc[i + 1, \"Bike_number\"]:\n",
    "        # reshuffling\n",
    "        # row 1\n",
    "        old_shuf_list.append((r_old.loc[i, \"Start_date\"], r_old.loc[i, \"End_date\"],\n",
    "             # reshuffling line\n",
    "             r_old.loc[i, \"End_station_number\"], r_old.loc[i, \"End_station\"], # this is the new start\n",
    "             1, \"Van\", # this is the new end\n",
    "             r_old.loc[i, \"Bike_number\"]\n",
    "            ))\n",
    "        # row 2\n",
    "        old_shuf_list.append((r_old.loc[i, \"Start_date\"], r_old.loc[i, \"End_date\"],\n",
    "             # reshuffling line\n",
    "             1, \"Van\", # this is the new start\n",
    "             r_old.loc[i + 1, \"Start_station_number\"],r_old.loc[i + 1, \"End_station\"], # this is the new end\n",
    "             r_old.loc[i, \"Bike_number\"]\n",
    "                ))\n",
    "    i += 1 # updating loop"
   ]
  },
  {
   "cell_type": "code",
   "execution_count": null,
   "id": "6a31b08d",
   "metadata": {},
   "outputs": [],
   "source": [
    "old_shuf_df = pd.DataFrame(old_shuf_list, columns = old.columns)\n",
    "old_shuf_df.shape"
   ]
  },
  {
   "cell_type": "code",
   "execution_count": null,
   "id": "a0e6d7bc-616a-4879-a70a-e3809cb16472",
   "metadata": {},
   "outputs": [],
   "source": [
    "old_shuf_df.head()"
   ]
  },
  {
   "cell_type": "code",
   "execution_count": null,
   "id": "8f679d4e-252f-44b2-a602-c8886d54c969",
   "metadata": {},
   "outputs": [],
   "source": [
    "old_shuf_df.isna().sum()"
   ]
  },
  {
   "cell_type": "code",
   "execution_count": null,
   "id": "a28783c0",
   "metadata": {},
   "outputs": [],
   "source": [
    "sorted(old_shuf_df.Start_station_number.unique().tolist())"
   ]
  },
  {
   "cell_type": "code",
   "execution_count": null,
   "id": "e576c1d6",
   "metadata": {},
   "outputs": [],
   "source": [
    "sorted(data_shuf_df.Start_station_number.unique().tolist())"
   ]
  },
  {
   "cell_type": "code",
   "execution_count": null,
   "id": "de4834bf",
   "metadata": {},
   "outputs": [],
   "source": [
    "len(set(sorted(data_shuf_df.Start_station_number.unique().tolist())).difference(set(sorted(old_shuf_df.Start_station_number.unique().tolist()))))"
   ]
  },
  {
   "cell_type": "code",
   "execution_count": null,
   "id": "b4793558",
   "metadata": {},
   "outputs": [],
   "source": [
    "# old_shuf_df.to_csv('reshuffled_2018.csv')"
   ]
  },
  {
   "cell_type": "markdown",
   "id": "4fa10cfb-8465-46b0-ac88-336d3768da55",
   "metadata": {},
   "source": [
    "### adding reshuffled data to the data frames\n",
    "\n",
    "Now that reshuffling is finished, we can append these rows onto the original dataframes. This will account for any reshuffling of the bikes from each station that occurred."
   ]
  },
  {
   "cell_type": "code",
   "execution_count": null,
   "id": "4fb80721-d4d4-4282-80e6-82d32a21f03d",
   "metadata": {},
   "outputs": [],
   "source": [
    "## 2019 data\n",
    "combined_data = pd.concat([data, data_shuf_df], axis = 0)\n",
    "combined_data.head()"
   ]
  },
  {
   "cell_type": "code",
   "execution_count": null,
   "id": "3b82c9bb",
   "metadata": {},
   "outputs": [],
   "source": [
    "combined_data.shape"
   ]
  },
  {
   "cell_type": "code",
   "execution_count": null,
   "id": "7e0682c1-b0cf-4b56-a934-15506e7afef5",
   "metadata": {},
   "outputs": [],
   "source": [
    "combined_data.isna().sum()"
   ]
  },
  {
   "cell_type": "code",
   "execution_count": null,
   "id": "f951feca",
   "metadata": {},
   "outputs": [],
   "source": [
    "#combined_data.to_csv(\"combined_2019.csv\")"
   ]
  },
  {
   "cell_type": "code",
   "execution_count": null,
   "id": "55b75179-f376-40c2-80d4-708d52193704",
   "metadata": {},
   "outputs": [],
   "source": [
    "## 2018 data\n",
    "combined_old = pd.concat([old, old_shuf_df], axis = 0)\n",
    "combined_old.isna().sum()"
   ]
  },
  {
   "cell_type": "code",
   "execution_count": null,
   "id": "2954a3e2",
   "metadata": {},
   "outputs": [],
   "source": [
    "combined_old.shape"
   ]
  },
  {
   "cell_type": "code",
   "execution_count": null,
   "id": "71a300cd",
   "metadata": {},
   "outputs": [],
   "source": [
    "#combined_old.to_csv(\"combined_2018.csv\")"
   ]
  },
  {
   "cell_type": "markdown",
   "id": "f763be57",
   "metadata": {},
   "source": [
    "# Availability\n",
    "\n",
    "Calculating bike availability after accounting for bike reshuffling (can skip down to this code directly for analysis)."
   ]
  },
  {
   "cell_type": "code",
   "execution_count": 1,
   "id": "c75c534a",
   "metadata": {},
   "outputs": [],
   "source": [
    "# packages\n",
    "import pandas as pd\n",
    "import datetime as dt\n",
    "import numpy as np"
   ]
  },
  {
   "cell_type": "code",
   "execution_count": 4,
   "id": "05e0b980",
   "metadata": {},
   "outputs": [
    {
     "name": "stderr",
     "output_type": "stream",
     "text": [
      "C:\\Users\\Owner\\anaconda3\\lib\\site-packages\\numpy\\lib\\arraysetops.py:583: FutureWarning: elementwise comparison failed; returning scalar instead, but in the future will perform elementwise comparison\n",
      "  mask |= (ar1 == a)\n"
     ]
    },
    {
     "data": {
      "text/html": [
       "<div>\n",
       "<style scoped>\n",
       "    .dataframe tbody tr th:only-of-type {\n",
       "        vertical-align: middle;\n",
       "    }\n",
       "\n",
       "    .dataframe tbody tr th {\n",
       "        vertical-align: top;\n",
       "    }\n",
       "\n",
       "    .dataframe thead th {\n",
       "        text-align: right;\n",
       "    }\n",
       "</style>\n",
       "<table border=\"1\" class=\"dataframe\">\n",
       "  <thead>\n",
       "    <tr style=\"text-align: right;\">\n",
       "      <th></th>\n",
       "      <th>Start_date</th>\n",
       "      <th>End_date</th>\n",
       "      <th>Start_station_number</th>\n",
       "      <th>Start_station</th>\n",
       "      <th>End_station_number</th>\n",
       "      <th>End_station</th>\n",
       "      <th>Bike_number</th>\n",
       "    </tr>\n",
       "  </thead>\n",
       "  <tbody>\n",
       "    <tr>\n",
       "      <th>0</th>\n",
       "      <td>2019-01-01 00:04:48</td>\n",
       "      <td>2019-01-01 00:08:39</td>\n",
       "      <td>31203</td>\n",
       "      <td>14th &amp; Rhode Island Ave NW</td>\n",
       "      <td>31200</td>\n",
       "      <td>Massachusetts Ave &amp; Dupont Circle NW</td>\n",
       "      <td>E00141</td>\n",
       "    </tr>\n",
       "    <tr>\n",
       "      <th>1</th>\n",
       "      <td>2019-01-01 00:06:37</td>\n",
       "      <td>2019-01-01 00:32:27</td>\n",
       "      <td>31321</td>\n",
       "      <td>15th St &amp; Constitution Ave NW</td>\n",
       "      <td>31114</td>\n",
       "      <td>18th St &amp; Wyoming Ave NW</td>\n",
       "      <td>W24067</td>\n",
       "    </tr>\n",
       "    <tr>\n",
       "      <th>2</th>\n",
       "      <td>2019-01-01 00:08:46</td>\n",
       "      <td>2019-01-01 00:11:44</td>\n",
       "      <td>31104</td>\n",
       "      <td>Adams Mill &amp; Columbia Rd NW</td>\n",
       "      <td>31323</td>\n",
       "      <td>Woodley Park Metro / Calvert St &amp; Connecticut ...</td>\n",
       "      <td>W22654</td>\n",
       "    </tr>\n",
       "    <tr>\n",
       "      <th>3</th>\n",
       "      <td>2019-01-01 00:08:47</td>\n",
       "      <td>2019-01-01 00:12:35</td>\n",
       "      <td>31281</td>\n",
       "      <td>8th &amp; O St NW</td>\n",
       "      <td>31280</td>\n",
       "      <td>11th &amp; S St NW</td>\n",
       "      <td>W22336</td>\n",
       "    </tr>\n",
       "    <tr>\n",
       "      <th>4</th>\n",
       "      <td>2019-01-01 00:12:29</td>\n",
       "      <td>2019-01-01 00:34:10</td>\n",
       "      <td>31014</td>\n",
       "      <td>Lynn &amp; 19th St North</td>\n",
       "      <td>31923</td>\n",
       "      <td>Columbia Pike &amp; S Taylor St</td>\n",
       "      <td>70004</td>\n",
       "    </tr>\n",
       "  </tbody>\n",
       "</table>\n",
       "</div>"
      ],
      "text/plain": [
       "           Start_date            End_date  Start_station_number  \\\n",
       "0 2019-01-01 00:04:48 2019-01-01 00:08:39                 31203   \n",
       "1 2019-01-01 00:06:37 2019-01-01 00:32:27                 31321   \n",
       "2 2019-01-01 00:08:46 2019-01-01 00:11:44                 31104   \n",
       "3 2019-01-01 00:08:47 2019-01-01 00:12:35                 31281   \n",
       "4 2019-01-01 00:12:29 2019-01-01 00:34:10                 31014   \n",
       "\n",
       "                   Start_station  End_station_number  \\\n",
       "0     14th & Rhode Island Ave NW               31200   \n",
       "1  15th St & Constitution Ave NW               31114   \n",
       "2    Adams Mill & Columbia Rd NW               31323   \n",
       "3                  8th & O St NW               31280   \n",
       "4           Lynn & 19th St North               31923   \n",
       "\n",
       "                                         End_station Bike_number  \n",
       "0               Massachusetts Ave & Dupont Circle NW      E00141  \n",
       "1                           18th St & Wyoming Ave NW      W24067  \n",
       "2  Woodley Park Metro / Calvert St & Connecticut ...      W22654  \n",
       "3                                     11th & S St NW      W22336  \n",
       "4                        Columbia Pike & S Taylor St       70004  "
      ]
     },
     "execution_count": 4,
     "metadata": {},
     "output_type": "execute_result"
    }
   ],
   "source": [
    "combined_data = pd.read_csv(\"combined_2019.csv\", parse_dates = [\"Start_date\", \"End_date\"], index_col = 0)\n",
    "combined_data.head()"
   ]
  },
  {
   "cell_type": "code",
   "execution_count": 5,
   "id": "07da9641",
   "metadata": {},
   "outputs": [
    {
     "name": "stdout",
     "output_type": "stream",
     "text": [
      "<class 'pandas.core.frame.DataFrame'>\n",
      "Int64Index: 4095805 entries, 0 to 697387\n",
      "Data columns (total 7 columns):\n",
      " #   Column                Dtype         \n",
      "---  ------                -----         \n",
      " 0   Start_date            datetime64[ns]\n",
      " 1   End_date              datetime64[ns]\n",
      " 2   Start_station_number  int64         \n",
      " 3   Start_station         object        \n",
      " 4   End_station_number    int64         \n",
      " 5   End_station           object        \n",
      " 6   Bike_number           object        \n",
      "dtypes: datetime64[ns](2), int64(2), object(3)\n",
      "memory usage: 250.0+ MB\n"
     ]
    }
   ],
   "source": [
    "combined_data.info()"
   ]
  },
  {
   "cell_type": "code",
   "execution_count": 7,
   "id": "4529e2b5",
   "metadata": {},
   "outputs": [
    {
     "data": {
      "text/plain": [
       "(4095805, 7)"
      ]
     },
     "execution_count": 7,
     "metadata": {},
     "output_type": "execute_result"
    }
   ],
   "source": [
    "combined_data.shape"
   ]
  },
  {
   "cell_type": "code",
   "execution_count": 8,
   "id": "a6c178b9",
   "metadata": {},
   "outputs": [
    {
     "data": {
      "text/plain": [
       "Start_date               0\n",
       "End_date                 0\n",
       "Start_station_number     0\n",
       "Start_station            0\n",
       "End_station_number       0\n",
       "End_station              0\n",
       "Bike_number             14\n",
       "dtype: int64"
      ]
     },
     "execution_count": 8,
     "metadata": {},
     "output_type": "execute_result"
    }
   ],
   "source": [
    "combined_data.isnull().sum()"
   ]
  },
  {
   "cell_type": "code",
   "execution_count": 9,
   "id": "6e091091",
   "metadata": {},
   "outputs": [
    {
     "data": {
      "text/html": [
       "<div>\n",
       "<style scoped>\n",
       "    .dataframe tbody tr th:only-of-type {\n",
       "        vertical-align: middle;\n",
       "    }\n",
       "\n",
       "    .dataframe tbody tr th {\n",
       "        vertical-align: top;\n",
       "    }\n",
       "\n",
       "    .dataframe thead th {\n",
       "        text-align: right;\n",
       "    }\n",
       "</style>\n",
       "<table border=\"1\" class=\"dataframe\">\n",
       "  <thead>\n",
       "    <tr style=\"text-align: right;\">\n",
       "      <th></th>\n",
       "      <th>Start_date</th>\n",
       "      <th>End_date</th>\n",
       "      <th>Start_station_number</th>\n",
       "      <th>Start_station</th>\n",
       "      <th>End_station_number</th>\n",
       "      <th>End_station</th>\n",
       "      <th>Bike_number</th>\n",
       "    </tr>\n",
       "  </thead>\n",
       "  <tbody>\n",
       "    <tr>\n",
       "      <th>0</th>\n",
       "      <td>2018-12-01 00:00:44</td>\n",
       "      <td>2018-12-01 00:13:54</td>\n",
       "      <td>31203</td>\n",
       "      <td>14th &amp; Rhode Island Ave NW</td>\n",
       "      <td>31116</td>\n",
       "      <td>California St &amp; Florida Ave NW</td>\n",
       "      <td>W21477</td>\n",
       "    </tr>\n",
       "    <tr>\n",
       "      <th>1</th>\n",
       "      <td>2018-12-01 00:00:55</td>\n",
       "      <td>2018-12-01 00:13:46</td>\n",
       "      <td>31203</td>\n",
       "      <td>14th &amp; Rhode Island Ave NW</td>\n",
       "      <td>31116</td>\n",
       "      <td>California St &amp; Florida Ave NW</td>\n",
       "      <td>W22810</td>\n",
       "    </tr>\n",
       "    <tr>\n",
       "      <th>2</th>\n",
       "      <td>2018-12-01 00:00:55</td>\n",
       "      <td>2018-12-01 00:13:51</td>\n",
       "      <td>31203</td>\n",
       "      <td>14th &amp; Rhode Island Ave NW</td>\n",
       "      <td>31116</td>\n",
       "      <td>California St &amp; Florida Ave NW</td>\n",
       "      <td>W21144</td>\n",
       "    </tr>\n",
       "    <tr>\n",
       "      <th>3</th>\n",
       "      <td>2018-12-01 00:01:08</td>\n",
       "      <td>2018-12-01 00:13:39</td>\n",
       "      <td>31203</td>\n",
       "      <td>14th &amp; Rhode Island Ave NW</td>\n",
       "      <td>31116</td>\n",
       "      <td>California St &amp; Florida Ave NW</td>\n",
       "      <td>W23321</td>\n",
       "    </tr>\n",
       "    <tr>\n",
       "      <th>4</th>\n",
       "      <td>2018-12-01 00:02:45</td>\n",
       "      <td>2018-12-01 00:05:11</td>\n",
       "      <td>31124</td>\n",
       "      <td>14th &amp; Irving St NW</td>\n",
       "      <td>31102</td>\n",
       "      <td>11th &amp; Kenyon St NW</td>\n",
       "      <td>W22304</td>\n",
       "    </tr>\n",
       "  </tbody>\n",
       "</table>\n",
       "</div>"
      ],
      "text/plain": [
       "           Start_date            End_date  Start_station_number  \\\n",
       "0 2018-12-01 00:00:44 2018-12-01 00:13:54                 31203   \n",
       "1 2018-12-01 00:00:55 2018-12-01 00:13:46                 31203   \n",
       "2 2018-12-01 00:00:55 2018-12-01 00:13:51                 31203   \n",
       "3 2018-12-01 00:01:08 2018-12-01 00:13:39                 31203   \n",
       "4 2018-12-01 00:02:45 2018-12-01 00:05:11                 31124   \n",
       "\n",
       "                Start_station  End_station_number  \\\n",
       "0  14th & Rhode Island Ave NW               31116   \n",
       "1  14th & Rhode Island Ave NW               31116   \n",
       "2  14th & Rhode Island Ave NW               31116   \n",
       "3  14th & Rhode Island Ave NW               31116   \n",
       "4         14th & Irving St NW               31102   \n",
       "\n",
       "                      End_station Bike_number  \n",
       "0  California St & Florida Ave NW      W21477  \n",
       "1  California St & Florida Ave NW      W22810  \n",
       "2  California St & Florida Ave NW      W21144  \n",
       "3  California St & Florida Ave NW      W23321  \n",
       "4             11th & Kenyon St NW      W22304  "
      ]
     },
     "execution_count": 9,
     "metadata": {},
     "output_type": "execute_result"
    }
   ],
   "source": [
    "combined_old = pd.read_csv(\"combined_2018.csv\", parse_dates = [\"Start_date\", \"End_date\"], index_col = 0)\n",
    "combined_old.head()"
   ]
  },
  {
   "cell_type": "code",
   "execution_count": 10,
   "id": "10dac22e",
   "metadata": {},
   "outputs": [
    {
     "data": {
      "text/plain": [
       "Start_date              datetime64[ns]\n",
       "End_date                datetime64[ns]\n",
       "Start_station_number             int64\n",
       "Start_station                   object\n",
       "End_station_number               int64\n",
       "End_station                     object\n",
       "Bike_number                     object\n",
       "dtype: object"
      ]
     },
     "execution_count": 10,
     "metadata": {},
     "output_type": "execute_result"
    }
   ],
   "source": [
    "combined_old.dtypes"
   ]
  },
  {
   "cell_type": "code",
   "execution_count": 11,
   "id": "8432cdf0",
   "metadata": {},
   "outputs": [
    {
     "data": {
      "text/html": [
       "<div>\n",
       "<style scoped>\n",
       "    .dataframe tbody tr th:only-of-type {\n",
       "        vertical-align: middle;\n",
       "    }\n",
       "\n",
       "    .dataframe tbody tr th {\n",
       "        vertical-align: top;\n",
       "    }\n",
       "\n",
       "    .dataframe thead th {\n",
       "        text-align: right;\n",
       "    }\n",
       "</style>\n",
       "<table border=\"1\" class=\"dataframe\">\n",
       "  <thead>\n",
       "    <tr style=\"text-align: right;\">\n",
       "      <th></th>\n",
       "      <th>Start_date</th>\n",
       "      <th>End_date</th>\n",
       "      <th>Start_station_number</th>\n",
       "      <th>Start_station</th>\n",
       "      <th>End_station_number</th>\n",
       "      <th>End_station</th>\n",
       "      <th>Bike_number</th>\n",
       "    </tr>\n",
       "  </thead>\n",
       "  <tbody>\n",
       "    <tr>\n",
       "      <th>0</th>\n",
       "      <td>2018-12-01 00:00:44</td>\n",
       "      <td>2018-12-01 00:13:54</td>\n",
       "      <td>31203</td>\n",
       "      <td>14th &amp; Rhode Island Ave NW</td>\n",
       "      <td>31116</td>\n",
       "      <td>California St &amp; Florida Ave NW</td>\n",
       "      <td>W21477</td>\n",
       "    </tr>\n",
       "    <tr>\n",
       "      <th>1</th>\n",
       "      <td>2018-12-01 00:00:55</td>\n",
       "      <td>2018-12-01 00:13:46</td>\n",
       "      <td>31203</td>\n",
       "      <td>14th &amp; Rhode Island Ave NW</td>\n",
       "      <td>31116</td>\n",
       "      <td>California St &amp; Florida Ave NW</td>\n",
       "      <td>W22810</td>\n",
       "    </tr>\n",
       "    <tr>\n",
       "      <th>2</th>\n",
       "      <td>2018-12-01 00:00:55</td>\n",
       "      <td>2018-12-01 00:13:51</td>\n",
       "      <td>31203</td>\n",
       "      <td>14th &amp; Rhode Island Ave NW</td>\n",
       "      <td>31116</td>\n",
       "      <td>California St &amp; Florida Ave NW</td>\n",
       "      <td>W21144</td>\n",
       "    </tr>\n",
       "    <tr>\n",
       "      <th>3</th>\n",
       "      <td>2018-12-01 00:01:08</td>\n",
       "      <td>2018-12-01 00:13:39</td>\n",
       "      <td>31203</td>\n",
       "      <td>14th &amp; Rhode Island Ave NW</td>\n",
       "      <td>31116</td>\n",
       "      <td>California St &amp; Florida Ave NW</td>\n",
       "      <td>W23321</td>\n",
       "    </tr>\n",
       "    <tr>\n",
       "      <th>4</th>\n",
       "      <td>2018-12-01 00:02:45</td>\n",
       "      <td>2018-12-01 00:05:11</td>\n",
       "      <td>31124</td>\n",
       "      <td>14th &amp; Irving St NW</td>\n",
       "      <td>31102</td>\n",
       "      <td>11th &amp; Kenyon St NW</td>\n",
       "      <td>W22304</td>\n",
       "    </tr>\n",
       "  </tbody>\n",
       "</table>\n",
       "</div>"
      ],
      "text/plain": [
       "           Start_date            End_date  Start_station_number  \\\n",
       "0 2018-12-01 00:00:44 2018-12-01 00:13:54                 31203   \n",
       "1 2018-12-01 00:00:55 2018-12-01 00:13:46                 31203   \n",
       "2 2018-12-01 00:00:55 2018-12-01 00:13:51                 31203   \n",
       "3 2018-12-01 00:01:08 2018-12-01 00:13:39                 31203   \n",
       "4 2018-12-01 00:02:45 2018-12-01 00:05:11                 31124   \n",
       "\n",
       "                Start_station  End_station_number  \\\n",
       "0  14th & Rhode Island Ave NW               31116   \n",
       "1  14th & Rhode Island Ave NW               31116   \n",
       "2  14th & Rhode Island Ave NW               31116   \n",
       "3  14th & Rhode Island Ave NW               31116   \n",
       "4         14th & Irving St NW               31102   \n",
       "\n",
       "                      End_station Bike_number  \n",
       "0  California St & Florida Ave NW      W21477  \n",
       "1  California St & Florida Ave NW      W22810  \n",
       "2  California St & Florida Ave NW      W21144  \n",
       "3  California St & Florida Ave NW      W23321  \n",
       "4             11th & Kenyon St NW      W22304  "
      ]
     },
     "execution_count": 11,
     "metadata": {},
     "output_type": "execute_result"
    }
   ],
   "source": [
    "combined_old.head()"
   ]
  },
  {
   "cell_type": "code",
   "execution_count": 12,
   "id": "a746a9c8",
   "metadata": {},
   "outputs": [
    {
     "data": {
      "text/plain": [
       "Start_date              0\n",
       "End_date                0\n",
       "Start_station_number    0\n",
       "Start_station           0\n",
       "End_station_number      0\n",
       "End_station             0\n",
       "Bike_number             0\n",
       "dtype: int64"
      ]
     },
     "execution_count": 12,
     "metadata": {},
     "output_type": "execute_result"
    }
   ],
   "source": [
    "combined_old.isna().sum()"
   ]
  },
  {
   "cell_type": "code",
   "execution_count": 13,
   "id": "d38ca9c2-5daf-4008-a21a-dd38d677dc2d",
   "metadata": {},
   "outputs": [
    {
     "name": "stdout",
     "output_type": "stream",
     "text": [
      "(4095805, 7)\n"
     ]
    },
    {
     "data": {
      "text/plain": [
       "(4095805, 9)"
      ]
     },
     "execution_count": 13,
     "metadata": {},
     "output_type": "execute_result"
    }
   ],
   "source": [
    "## creating appropriate cols for analysis\n",
    "print(combined_data.shape)\n",
    "combined_data['Start_day'] = combined_data.Start_date.dt.date\n",
    "combined_data['Start_hour'] = combined_data.Start_date.dt.hour\n",
    "combined_data.shape"
   ]
  },
  {
   "cell_type": "code",
   "execution_count": 14,
   "id": "0801eaed-e7ea-44d0-b532-06cf090beebe",
   "metadata": {},
   "outputs": [
    {
     "name": "stdout",
     "output_type": "stream",
     "text": [
      "(195107, 7)\n"
     ]
    },
    {
     "data": {
      "text/plain": [
       "(195107, 9)"
      ]
     },
     "execution_count": 14,
     "metadata": {},
     "output_type": "execute_result"
    }
   ],
   "source": [
    "print(combined_old.shape)\n",
    "combined_old['Start_day'] = combined_old.Start_date.dt.date\n",
    "combined_old['Start_hour'] = combined_old.Start_date.dt.hour\n",
    "combined_old.shape"
   ]
  },
  {
   "cell_type": "markdown",
   "id": "84b967a9-c60a-413b-a09a-47c21128dca4",
   "metadata": {},
   "source": [
    "# availability calculation"
   ]
  },
  {
   "cell_type": "markdown",
   "id": "25ea5599",
   "metadata": {},
   "source": [
    "## step 1: get arrivals and departures to a station\n",
    "\n",
    "Idea: since we want number of bikes at a station by hour, we group the data together with these and count the number of bikes that are present at station using bike_number.\n",
    "\n",
    "Arrivals: the bike ends at a station at the start of the hour\n",
    "\n",
    "Departures: the bike starts at a station at the start of the hour"
   ]
  },
  {
   "cell_type": "code",
   "execution_count": 15,
   "id": "86cb1b0e",
   "metadata": {},
   "outputs": [
    {
     "data": {
      "text/html": [
       "<div>\n",
       "<style scoped>\n",
       "    .dataframe tbody tr th:only-of-type {\n",
       "        vertical-align: middle;\n",
       "    }\n",
       "\n",
       "    .dataframe tbody tr th {\n",
       "        vertical-align: top;\n",
       "    }\n",
       "\n",
       "    .dataframe thead th {\n",
       "        text-align: right;\n",
       "    }\n",
       "</style>\n",
       "<table border=\"1\" class=\"dataframe\">\n",
       "  <thead>\n",
       "    <tr style=\"text-align: right;\">\n",
       "      <th></th>\n",
       "      <th>Start_day</th>\n",
       "      <th>Start_hour</th>\n",
       "      <th>Station</th>\n",
       "      <th>Arrivals</th>\n",
       "    </tr>\n",
       "  </thead>\n",
       "  <tbody>\n",
       "    <tr>\n",
       "      <th>0</th>\n",
       "      <td>2019-01-01</td>\n",
       "      <td>0</td>\n",
       "      <td>1</td>\n",
       "      <td>9</td>\n",
       "    </tr>\n",
       "    <tr>\n",
       "      <th>1</th>\n",
       "      <td>2019-01-01</td>\n",
       "      <td>0</td>\n",
       "      <td>31030</td>\n",
       "      <td>1</td>\n",
       "    </tr>\n",
       "    <tr>\n",
       "      <th>2</th>\n",
       "      <td>2019-01-01</td>\n",
       "      <td>0</td>\n",
       "      <td>31032</td>\n",
       "      <td>1</td>\n",
       "    </tr>\n",
       "    <tr>\n",
       "      <th>3</th>\n",
       "      <td>2019-01-01</td>\n",
       "      <td>0</td>\n",
       "      <td>31041</td>\n",
       "      <td>1</td>\n",
       "    </tr>\n",
       "    <tr>\n",
       "      <th>4</th>\n",
       "      <td>2019-01-01</td>\n",
       "      <td>0</td>\n",
       "      <td>31048</td>\n",
       "      <td>1</td>\n",
       "    </tr>\n",
       "  </tbody>\n",
       "</table>\n",
       "</div>"
      ],
      "text/plain": [
       "    Start_day  Start_hour  Station  Arrivals\n",
       "0  2019-01-01           0        1         9\n",
       "1  2019-01-01           0    31030         1\n",
       "2  2019-01-01           0    31032         1\n",
       "3  2019-01-01           0    31041         1\n",
       "4  2019-01-01           0    31048         1"
      ]
     },
     "execution_count": 15,
     "metadata": {},
     "output_type": "execute_result"
    }
   ],
   "source": [
    "comb_a = combined_data.groupby(['Start_day', 'Start_hour', 'End_station_number'])['Bike_number'].count().reset_index()\\\n",
    ".rename(columns = {\"End_station_number\":\"Station\", \"Bike_number\":\"Arrivals\"})\n",
    "comb_a.head()"
   ]
  },
  {
   "cell_type": "code",
   "execution_count": 16,
   "id": "ba7f5599",
   "metadata": {},
   "outputs": [
    {
     "data": {
      "text/plain": [
       "(1353200, 4)"
      ]
     },
     "execution_count": 16,
     "metadata": {},
     "output_type": "execute_result"
    }
   ],
   "source": [
    "comb_a.shape"
   ]
  },
  {
   "cell_type": "code",
   "execution_count": 17,
   "id": "779eafa3",
   "metadata": {},
   "outputs": [
    {
     "data": {
      "text/html": [
       "<div>\n",
       "<style scoped>\n",
       "    .dataframe tbody tr th:only-of-type {\n",
       "        vertical-align: middle;\n",
       "    }\n",
       "\n",
       "    .dataframe tbody tr th {\n",
       "        vertical-align: top;\n",
       "    }\n",
       "\n",
       "    .dataframe thead th {\n",
       "        text-align: right;\n",
       "    }\n",
       "</style>\n",
       "<table border=\"1\" class=\"dataframe\">\n",
       "  <thead>\n",
       "    <tr style=\"text-align: right;\">\n",
       "      <th></th>\n",
       "      <th>Start_day</th>\n",
       "      <th>Start_hour</th>\n",
       "      <th>Station</th>\n",
       "      <th>Departures</th>\n",
       "    </tr>\n",
       "  </thead>\n",
       "  <tbody>\n",
       "    <tr>\n",
       "      <th>0</th>\n",
       "      <td>2019-01-01</td>\n",
       "      <td>0</td>\n",
       "      <td>1</td>\n",
       "      <td>9</td>\n",
       "    </tr>\n",
       "    <tr>\n",
       "      <th>1</th>\n",
       "      <td>2019-01-01</td>\n",
       "      <td>0</td>\n",
       "      <td>31014</td>\n",
       "      <td>1</td>\n",
       "    </tr>\n",
       "    <tr>\n",
       "      <th>2</th>\n",
       "      <td>2019-01-01</td>\n",
       "      <td>0</td>\n",
       "      <td>31022</td>\n",
       "      <td>1</td>\n",
       "    </tr>\n",
       "    <tr>\n",
       "      <th>3</th>\n",
       "      <td>2019-01-01</td>\n",
       "      <td>0</td>\n",
       "      <td>31041</td>\n",
       "      <td>1</td>\n",
       "    </tr>\n",
       "    <tr>\n",
       "      <th>4</th>\n",
       "      <td>2019-01-01</td>\n",
       "      <td>0</td>\n",
       "      <td>31042</td>\n",
       "      <td>1</td>\n",
       "    </tr>\n",
       "  </tbody>\n",
       "</table>\n",
       "</div>"
      ],
      "text/plain": [
       "    Start_day  Start_hour  Station  Departures\n",
       "0  2019-01-01           0        1           9\n",
       "1  2019-01-01           0    31014           1\n",
       "2  2019-01-01           0    31022           1\n",
       "3  2019-01-01           0    31041           1\n",
       "4  2019-01-01           0    31042           1"
      ]
     },
     "execution_count": 17,
     "metadata": {},
     "output_type": "execute_result"
    }
   ],
   "source": [
    "comb_d = combined_data.groupby(['Start_day', 'Start_hour', 'Start_station_number'])['Bike_number'].count().reset_index()\\\n",
    ".rename(columns = {\"Start_station_number\":\"Station\", \"Bike_number\":\"Departures\"})\n",
    "comb_d.head()"
   ]
  },
  {
   "cell_type": "code",
   "execution_count": 18,
   "id": "0378dbf8",
   "metadata": {},
   "outputs": [
    {
     "data": {
      "text/plain": [
       "(1348500, 4)"
      ]
     },
     "execution_count": 18,
     "metadata": {},
     "output_type": "execute_result"
    }
   ],
   "source": [
    "comb_d.shape"
   ]
  },
  {
   "cell_type": "markdown",
   "id": "bd0ed190-acf1-4423-afb8-b973e61d6d16",
   "metadata": {},
   "source": [
    "## merging tables\n",
    "\n",
    "We then merge the tables together using the date, time, and station number to combine the columns. Note that we use an outer join and fill in the missing values with 0, since this implies that there were only arrivals/departures to a station at a given point in time."
   ]
  },
  {
   "cell_type": "code",
   "execution_count": 19,
   "id": "747e597c-49c5-40ac-bf4e-abed316259bc",
   "metadata": {},
   "outputs": [
    {
     "data": {
      "text/plain": [
       "(1785501, 5)"
      ]
     },
     "execution_count": 19,
     "metadata": {},
     "output_type": "execute_result"
    }
   ],
   "source": [
    "comb_a_d = comb_a.merge(comb_d, how = \"outer\", on = [\"Start_day\", \"Start_hour\", \"Station\"]).fillna(0)\n",
    "comb_a_d.shape"
   ]
  },
  {
   "cell_type": "code",
   "execution_count": 20,
   "id": "28af3f72-f005-49f6-88d6-606c7579d4f3",
   "metadata": {},
   "outputs": [
    {
     "data": {
      "text/html": [
       "<div>\n",
       "<style scoped>\n",
       "    .dataframe tbody tr th:only-of-type {\n",
       "        vertical-align: middle;\n",
       "    }\n",
       "\n",
       "    .dataframe tbody tr th {\n",
       "        vertical-align: top;\n",
       "    }\n",
       "\n",
       "    .dataframe thead th {\n",
       "        text-align: right;\n",
       "    }\n",
       "</style>\n",
       "<table border=\"1\" class=\"dataframe\">\n",
       "  <thead>\n",
       "    <tr style=\"text-align: right;\">\n",
       "      <th></th>\n",
       "      <th>Start_day</th>\n",
       "      <th>Start_hour</th>\n",
       "      <th>Station</th>\n",
       "      <th>Arrivals</th>\n",
       "      <th>Departures</th>\n",
       "    </tr>\n",
       "  </thead>\n",
       "  <tbody>\n",
       "    <tr>\n",
       "      <th>0</th>\n",
       "      <td>2019-01-01</td>\n",
       "      <td>0</td>\n",
       "      <td>1</td>\n",
       "      <td>9.0</td>\n",
       "      <td>9.0</td>\n",
       "    </tr>\n",
       "    <tr>\n",
       "      <th>1</th>\n",
       "      <td>2019-01-01</td>\n",
       "      <td>0</td>\n",
       "      <td>31030</td>\n",
       "      <td>1.0</td>\n",
       "      <td>0.0</td>\n",
       "    </tr>\n",
       "    <tr>\n",
       "      <th>2</th>\n",
       "      <td>2019-01-01</td>\n",
       "      <td>0</td>\n",
       "      <td>31032</td>\n",
       "      <td>1.0</td>\n",
       "      <td>0.0</td>\n",
       "    </tr>\n",
       "    <tr>\n",
       "      <th>3</th>\n",
       "      <td>2019-01-01</td>\n",
       "      <td>0</td>\n",
       "      <td>31041</td>\n",
       "      <td>1.0</td>\n",
       "      <td>1.0</td>\n",
       "    </tr>\n",
       "    <tr>\n",
       "      <th>4</th>\n",
       "      <td>2019-01-01</td>\n",
       "      <td>0</td>\n",
       "      <td>31048</td>\n",
       "      <td>1.0</td>\n",
       "      <td>0.0</td>\n",
       "    </tr>\n",
       "  </tbody>\n",
       "</table>\n",
       "</div>"
      ],
      "text/plain": [
       "    Start_day  Start_hour  Station  Arrivals  Departures\n",
       "0  2019-01-01           0        1       9.0         9.0\n",
       "1  2019-01-01           0    31030       1.0         0.0\n",
       "2  2019-01-01           0    31032       1.0         0.0\n",
       "3  2019-01-01           0    31041       1.0         1.0\n",
       "4  2019-01-01           0    31048       1.0         0.0"
      ]
     },
     "execution_count": 20,
     "metadata": {},
     "output_type": "execute_result"
    }
   ],
   "source": [
    "comb_a_d.head()"
   ]
  },
  {
   "cell_type": "code",
   "execution_count": 21,
   "id": "9690c01e",
   "metadata": {},
   "outputs": [
    {
     "data": {
      "text/html": [
       "<div>\n",
       "<style scoped>\n",
       "    .dataframe tbody tr th:only-of-type {\n",
       "        vertical-align: middle;\n",
       "    }\n",
       "\n",
       "    .dataframe tbody tr th {\n",
       "        vertical-align: top;\n",
       "    }\n",
       "\n",
       "    .dataframe thead th {\n",
       "        text-align: right;\n",
       "    }\n",
       "</style>\n",
       "<table border=\"1\" class=\"dataframe\">\n",
       "  <thead>\n",
       "    <tr style=\"text-align: right;\">\n",
       "      <th></th>\n",
       "      <th>Start_day</th>\n",
       "      <th>Start_hour</th>\n",
       "      <th>Station</th>\n",
       "      <th>Arrivals</th>\n",
       "      <th>Departures</th>\n",
       "    </tr>\n",
       "  </thead>\n",
       "  <tbody>\n",
       "    <tr>\n",
       "      <th>1</th>\n",
       "      <td>2019-01-01</td>\n",
       "      <td>0</td>\n",
       "      <td>31030</td>\n",
       "      <td>1.0</td>\n",
       "      <td>0.0</td>\n",
       "    </tr>\n",
       "    <tr>\n",
       "      <th>1576</th>\n",
       "      <td>2019-01-01</td>\n",
       "      <td>16</td>\n",
       "      <td>31030</td>\n",
       "      <td>2.0</td>\n",
       "      <td>2.0</td>\n",
       "    </tr>\n",
       "    <tr>\n",
       "      <th>1778</th>\n",
       "      <td>2019-01-01</td>\n",
       "      <td>17</td>\n",
       "      <td>31030</td>\n",
       "      <td>3.0</td>\n",
       "      <td>0.0</td>\n",
       "    </tr>\n",
       "    <tr>\n",
       "      <th>1944</th>\n",
       "      <td>2019-01-01</td>\n",
       "      <td>18</td>\n",
       "      <td>31030</td>\n",
       "      <td>1.0</td>\n",
       "      <td>0.0</td>\n",
       "    </tr>\n",
       "    <tr>\n",
       "      <th>2389</th>\n",
       "      <td>2019-01-01</td>\n",
       "      <td>23</td>\n",
       "      <td>31030</td>\n",
       "      <td>1.0</td>\n",
       "      <td>0.0</td>\n",
       "    </tr>\n",
       "  </tbody>\n",
       "</table>\n",
       "</div>"
      ],
      "text/plain": [
       "       Start_day  Start_hour  Station  Arrivals  Departures\n",
       "1     2019-01-01           0    31030       1.0         0.0\n",
       "1576  2019-01-01          16    31030       2.0         2.0\n",
       "1778  2019-01-01          17    31030       3.0         0.0\n",
       "1944  2019-01-01          18    31030       1.0         0.0\n",
       "2389  2019-01-01          23    31030       1.0         0.0"
      ]
     },
     "execution_count": 21,
     "metadata": {},
     "output_type": "execute_result"
    }
   ],
   "source": [
    "comb_a_d[comb_a_d.Station == 31030].head() # sanity check that combining worked"
   ]
  },
  {
   "cell_type": "markdown",
   "id": "adc6b124-eff5-4028-91af-db27eb558965",
   "metadata": {},
   "source": [
    "### starting point calculation \n",
    "\n",
    "identical to analysis for previous data to get in a similar format"
   ]
  },
  {
   "cell_type": "code",
   "execution_count": 22,
   "id": "0e40a83b",
   "metadata": {},
   "outputs": [
    {
     "data": {
      "text/html": [
       "<div>\n",
       "<style scoped>\n",
       "    .dataframe tbody tr th:only-of-type {\n",
       "        vertical-align: middle;\n",
       "    }\n",
       "\n",
       "    .dataframe tbody tr th {\n",
       "        vertical-align: top;\n",
       "    }\n",
       "\n",
       "    .dataframe thead th {\n",
       "        text-align: right;\n",
       "    }\n",
       "</style>\n",
       "<table border=\"1\" class=\"dataframe\">\n",
       "  <thead>\n",
       "    <tr style=\"text-align: right;\">\n",
       "      <th></th>\n",
       "      <th>Start_day</th>\n",
       "      <th>Start_hour</th>\n",
       "      <th>Station</th>\n",
       "      <th>Arrivals</th>\n",
       "    </tr>\n",
       "  </thead>\n",
       "  <tbody>\n",
       "    <tr>\n",
       "      <th>0</th>\n",
       "      <td>2018-12-01</td>\n",
       "      <td>0</td>\n",
       "      <td>1</td>\n",
       "      <td>11</td>\n",
       "    </tr>\n",
       "    <tr>\n",
       "      <th>1</th>\n",
       "      <td>2018-12-01</td>\n",
       "      <td>0</td>\n",
       "      <td>31009</td>\n",
       "      <td>1</td>\n",
       "    </tr>\n",
       "    <tr>\n",
       "      <th>2</th>\n",
       "      <td>2018-12-01</td>\n",
       "      <td>0</td>\n",
       "      <td>31020</td>\n",
       "      <td>1</td>\n",
       "    </tr>\n",
       "    <tr>\n",
       "      <th>3</th>\n",
       "      <td>2018-12-01</td>\n",
       "      <td>0</td>\n",
       "      <td>31030</td>\n",
       "      <td>1</td>\n",
       "    </tr>\n",
       "    <tr>\n",
       "      <th>4</th>\n",
       "      <td>2018-12-01</td>\n",
       "      <td>0</td>\n",
       "      <td>31052</td>\n",
       "      <td>1</td>\n",
       "    </tr>\n",
       "  </tbody>\n",
       "</table>\n",
       "</div>"
      ],
      "text/plain": [
       "    Start_day  Start_hour  Station  Arrivals\n",
       "0  2018-12-01           0        1        11\n",
       "1  2018-12-01           0    31009         1\n",
       "2  2018-12-01           0    31020         1\n",
       "3  2018-12-01           0    31030         1\n",
       "4  2018-12-01           0    31052         1"
      ]
     },
     "execution_count": 22,
     "metadata": {},
     "output_type": "execute_result"
    }
   ],
   "source": [
    "# arrivals\n",
    "old_a = combined_old.groupby(['Start_day', 'Start_hour', 'End_station_number'])['Bike_number'].count().reset_index()\\\n",
    ".rename(columns = {\"End_station_number\":\"Station\", \"Bike_number\":\"Arrivals\"})\n",
    "old_a.head()"
   ]
  },
  {
   "cell_type": "code",
   "execution_count": 23,
   "id": "cda0753a",
   "metadata": {},
   "outputs": [
    {
     "data": {
      "text/plain": [
       "(81433, 4)"
      ]
     },
     "execution_count": 23,
     "metadata": {},
     "output_type": "execute_result"
    }
   ],
   "source": [
    "old_a.shape"
   ]
  },
  {
   "cell_type": "code",
   "execution_count": 24,
   "id": "daeb2416",
   "metadata": {},
   "outputs": [
    {
     "data": {
      "text/html": [
       "<div>\n",
       "<style scoped>\n",
       "    .dataframe tbody tr th:only-of-type {\n",
       "        vertical-align: middle;\n",
       "    }\n",
       "\n",
       "    .dataframe tbody tr th {\n",
       "        vertical-align: top;\n",
       "    }\n",
       "\n",
       "    .dataframe thead th {\n",
       "        text-align: right;\n",
       "    }\n",
       "</style>\n",
       "<table border=\"1\" class=\"dataframe\">\n",
       "  <thead>\n",
       "    <tr style=\"text-align: right;\">\n",
       "      <th></th>\n",
       "      <th>Start_day</th>\n",
       "      <th>Start_hour</th>\n",
       "      <th>Station</th>\n",
       "      <th>Departures</th>\n",
       "    </tr>\n",
       "  </thead>\n",
       "  <tbody>\n",
       "    <tr>\n",
       "      <th>0</th>\n",
       "      <td>2018-12-01</td>\n",
       "      <td>0</td>\n",
       "      <td>1</td>\n",
       "      <td>11</td>\n",
       "    </tr>\n",
       "    <tr>\n",
       "      <th>1</th>\n",
       "      <td>2018-12-01</td>\n",
       "      <td>0</td>\n",
       "      <td>31007</td>\n",
       "      <td>2</td>\n",
       "    </tr>\n",
       "    <tr>\n",
       "      <th>2</th>\n",
       "      <td>2018-12-01</td>\n",
       "      <td>0</td>\n",
       "      <td>31009</td>\n",
       "      <td>1</td>\n",
       "    </tr>\n",
       "    <tr>\n",
       "      <th>3</th>\n",
       "      <td>2018-12-01</td>\n",
       "      <td>0</td>\n",
       "      <td>31034</td>\n",
       "      <td>1</td>\n",
       "    </tr>\n",
       "    <tr>\n",
       "      <th>4</th>\n",
       "      <td>2018-12-01</td>\n",
       "      <td>0</td>\n",
       "      <td>31037</td>\n",
       "      <td>1</td>\n",
       "    </tr>\n",
       "  </tbody>\n",
       "</table>\n",
       "</div>"
      ],
      "text/plain": [
       "    Start_day  Start_hour  Station  Departures\n",
       "0  2018-12-01           0        1          11\n",
       "1  2018-12-01           0    31007           2\n",
       "2  2018-12-01           0    31009           1\n",
       "3  2018-12-01           0    31034           1\n",
       "4  2018-12-01           0    31037           1"
      ]
     },
     "execution_count": 24,
     "metadata": {},
     "output_type": "execute_result"
    }
   ],
   "source": [
    "# departures\n",
    "old_d = combined_old.groupby(['Start_day', 'Start_hour', 'Start_station_number'])['Bike_number'].count().reset_index()\\\n",
    ".rename(columns = {\"Start_station_number\":\"Station\", \"Bike_number\":\"Departures\"})\n",
    "old_d.head()"
   ]
  },
  {
   "cell_type": "code",
   "execution_count": 25,
   "id": "002e06b9",
   "metadata": {},
   "outputs": [
    {
     "data": {
      "text/plain": [
       "(81357, 4)"
      ]
     },
     "execution_count": 25,
     "metadata": {},
     "output_type": "execute_result"
    }
   ],
   "source": [
    "old_d.shape"
   ]
  },
  {
   "cell_type": "code",
   "execution_count": 26,
   "id": "7112c9be",
   "metadata": {},
   "outputs": [
    {
     "data": {
      "text/html": [
       "<div>\n",
       "<style scoped>\n",
       "    .dataframe tbody tr th:only-of-type {\n",
       "        vertical-align: middle;\n",
       "    }\n",
       "\n",
       "    .dataframe tbody tr th {\n",
       "        vertical-align: top;\n",
       "    }\n",
       "\n",
       "    .dataframe thead th {\n",
       "        text-align: right;\n",
       "    }\n",
       "</style>\n",
       "<table border=\"1\" class=\"dataframe\">\n",
       "  <thead>\n",
       "    <tr style=\"text-align: right;\">\n",
       "      <th></th>\n",
       "      <th>Start_day</th>\n",
       "      <th>Start_hour</th>\n",
       "      <th>Station</th>\n",
       "      <th>Arrivals</th>\n",
       "      <th>Departures</th>\n",
       "    </tr>\n",
       "  </thead>\n",
       "  <tbody>\n",
       "    <tr>\n",
       "      <th>0</th>\n",
       "      <td>2018-12-01</td>\n",
       "      <td>0</td>\n",
       "      <td>1</td>\n",
       "      <td>11.0</td>\n",
       "      <td>11.0</td>\n",
       "    </tr>\n",
       "    <tr>\n",
       "      <th>1</th>\n",
       "      <td>2018-12-01</td>\n",
       "      <td>0</td>\n",
       "      <td>31009</td>\n",
       "      <td>1.0</td>\n",
       "      <td>1.0</td>\n",
       "    </tr>\n",
       "    <tr>\n",
       "      <th>2</th>\n",
       "      <td>2018-12-01</td>\n",
       "      <td>0</td>\n",
       "      <td>31020</td>\n",
       "      <td>1.0</td>\n",
       "      <td>0.0</td>\n",
       "    </tr>\n",
       "    <tr>\n",
       "      <th>3</th>\n",
       "      <td>2018-12-01</td>\n",
       "      <td>0</td>\n",
       "      <td>31030</td>\n",
       "      <td>1.0</td>\n",
       "      <td>0.0</td>\n",
       "    </tr>\n",
       "    <tr>\n",
       "      <th>4</th>\n",
       "      <td>2018-12-01</td>\n",
       "      <td>0</td>\n",
       "      <td>31052</td>\n",
       "      <td>1.0</td>\n",
       "      <td>0.0</td>\n",
       "    </tr>\n",
       "  </tbody>\n",
       "</table>\n",
       "</div>"
      ],
      "text/plain": [
       "    Start_day  Start_hour  Station  Arrivals  Departures\n",
       "0  2018-12-01           0        1      11.0        11.0\n",
       "1  2018-12-01           0    31009       1.0         1.0\n",
       "2  2018-12-01           0    31020       1.0         0.0\n",
       "3  2018-12-01           0    31030       1.0         0.0\n",
       "4  2018-12-01           0    31052       1.0         0.0"
      ]
     },
     "execution_count": 26,
     "metadata": {},
     "output_type": "execute_result"
    }
   ],
   "source": [
    "old_a_d = old_a.merge(old_d, how = \"outer\", on = [\"Start_day\", \"Start_hour\", \"Station\"]).fillna(0)\n",
    "old_a_d.head()"
   ]
  },
  {
   "cell_type": "code",
   "execution_count": 27,
   "id": "c3ba62fb",
   "metadata": {},
   "outputs": [
    {
     "data": {
      "text/plain": [
       "(112263, 5)"
      ]
     },
     "execution_count": 27,
     "metadata": {},
     "output_type": "execute_result"
    }
   ],
   "source": [
    "old_a_d.shape"
   ]
  },
  {
   "cell_type": "markdown",
   "id": "ecd5253e-af89-4670-b992-2ab6a6d9f956",
   "metadata": {},
   "source": [
    "#### actual calculation for starting point\n",
    "\n",
    "look at bike at each station, try to identify bikes that arrived and departed at that station ==> count bikes that have departure before arrival"
   ]
  },
  {
   "cell_type": "code",
   "execution_count": 29,
   "id": "61e5f12f",
   "metadata": {},
   "outputs": [],
   "source": [
    "old_a_d.rename({\"Start_day\":\"Start_date\"}, axis = 1, inplace = True)"
   ]
  },
  {
   "cell_type": "markdown",
   "id": "c31e8b0f",
   "metadata": {},
   "source": [
    "#### arrivals departures\n",
    "\n",
    "Find the last index value of each bike grouped by station: this gives a sense of where the bikes where at their final trip for each station."
   ]
  },
  {
   "cell_type": "code",
   "execution_count": 30,
   "id": "aea220df",
   "metadata": {},
   "outputs": [
    {
     "data": {
      "text/html": [
       "<div>\n",
       "<style scoped>\n",
       "    .dataframe tbody tr th:only-of-type {\n",
       "        vertical-align: middle;\n",
       "    }\n",
       "\n",
       "    .dataframe tbody tr th {\n",
       "        vertical-align: top;\n",
       "    }\n",
       "\n",
       "    .dataframe thead th {\n",
       "        text-align: right;\n",
       "    }\n",
       "</style>\n",
       "<table border=\"1\" class=\"dataframe\">\n",
       "  <thead>\n",
       "    <tr style=\"text-align: right;\">\n",
       "      <th></th>\n",
       "      <th>Bike_number</th>\n",
       "      <th>Max_depart</th>\n",
       "      <th>Station_id</th>\n",
       "    </tr>\n",
       "  </thead>\n",
       "  <tbody>\n",
       "    <tr>\n",
       "      <th>0</th>\n",
       "      <td>W22810</td>\n",
       "      <td>2018-12-01 00:00:55</td>\n",
       "      <td>31203</td>\n",
       "    </tr>\n",
       "    <tr>\n",
       "      <th>1</th>\n",
       "      <td>23750</td>\n",
       "      <td>2018-12-01 01:33:45</td>\n",
       "      <td>1</td>\n",
       "    </tr>\n",
       "    <tr>\n",
       "      <th>2</th>\n",
       "      <td>W23924</td>\n",
       "      <td>2018-12-01 00:09:06</td>\n",
       "      <td>31636</td>\n",
       "    </tr>\n",
       "    <tr>\n",
       "      <th>3</th>\n",
       "      <td>23751</td>\n",
       "      <td>2018-12-11 07:48:44</td>\n",
       "      <td>1</td>\n",
       "    </tr>\n",
       "    <tr>\n",
       "      <th>4</th>\n",
       "      <td>W20167</td>\n",
       "      <td>2018-12-01 00:11:16</td>\n",
       "      <td>31400</td>\n",
       "    </tr>\n",
       "  </tbody>\n",
       "</table>\n",
       "</div>"
      ],
      "text/plain": [
       "  Bike_number          Max_depart  Station_id\n",
       "0      W22810 2018-12-01 00:00:55       31203\n",
       "1       23750 2018-12-01 01:33:45           1\n",
       "2      W23924 2018-12-01 00:09:06       31636\n",
       "3       23751 2018-12-11 07:48:44           1\n",
       "4      W20167 2018-12-01 00:11:16       31400"
      ]
     },
     "execution_count": 30,
     "metadata": {},
     "output_type": "execute_result"
    }
   ],
   "source": [
    "# departure starting point for each bike\n",
    "dep_start = combined_old[[\"Bike_number\",'Start_date', 'Start_station_number']]\\\n",
    ".loc[combined_old.groupby(['Start_station_number','Bike_number'])['Start_date'].idxmax()]\\\n",
    ".reset_index(drop = True).rename(columns = {'Start_date':'Max_depart', 'Start_station_number':'Station_id'})\n",
    "dep_start.head()"
   ]
  },
  {
   "cell_type": "code",
   "execution_count": 31,
   "id": "8570f3ec",
   "metadata": {},
   "outputs": [
    {
     "data": {
      "text/html": [
       "<div>\n",
       "<style scoped>\n",
       "    .dataframe tbody tr th:only-of-type {\n",
       "        vertical-align: middle;\n",
       "    }\n",
       "\n",
       "    .dataframe tbody tr th {\n",
       "        vertical-align: top;\n",
       "    }\n",
       "\n",
       "    .dataframe thead th {\n",
       "        text-align: right;\n",
       "    }\n",
       "</style>\n",
       "<table border=\"1\" class=\"dataframe\">\n",
       "  <thead>\n",
       "    <tr style=\"text-align: right;\">\n",
       "      <th></th>\n",
       "      <th>Bike_number</th>\n",
       "      <th>Max_arrive</th>\n",
       "      <th>Station_id</th>\n",
       "    </tr>\n",
       "  </thead>\n",
       "  <tbody>\n",
       "    <tr>\n",
       "      <th>0</th>\n",
       "      <td>W21477</td>\n",
       "      <td>2018-12-01 00:00:44</td>\n",
       "      <td>31116</td>\n",
       "    </tr>\n",
       "    <tr>\n",
       "      <th>1</th>\n",
       "      <td>23750</td>\n",
       "      <td>2018-12-01 01:33:45</td>\n",
       "      <td>1</td>\n",
       "    </tr>\n",
       "    <tr>\n",
       "      <th>2</th>\n",
       "      <td>W21353</td>\n",
       "      <td>2018-12-01 00:08:24</td>\n",
       "      <td>31223</td>\n",
       "    </tr>\n",
       "    <tr>\n",
       "      <th>3</th>\n",
       "      <td>23751</td>\n",
       "      <td>2018-12-11 07:48:44</td>\n",
       "      <td>1</td>\n",
       "    </tr>\n",
       "    <tr>\n",
       "      <th>4</th>\n",
       "      <td>W00539</td>\n",
       "      <td>2018-12-01 00:10:55</td>\n",
       "      <td>31286</td>\n",
       "    </tr>\n",
       "  </tbody>\n",
       "</table>\n",
       "</div>"
      ],
      "text/plain": [
       "  Bike_number          Max_arrive  Station_id\n",
       "0      W21477 2018-12-01 00:00:44       31116\n",
       "1       23750 2018-12-01 01:33:45           1\n",
       "2      W21353 2018-12-01 00:08:24       31223\n",
       "3       23751 2018-12-11 07:48:44           1\n",
       "4      W00539 2018-12-01 00:10:55       31286"
      ]
     },
     "execution_count": 31,
     "metadata": {},
     "output_type": "execute_result"
    }
   ],
   "source": [
    "# arrival starting point for each bike\n",
    "arrive_start = combined_old[[\"Bike_number\",'Start_date', 'End_station_number']]\\\n",
    ".loc[combined_old.groupby(['End_station_number','Bike_number'])['Start_date'].idxmax()]\\\n",
    ".reset_index(drop = True).rename(columns = {'Start_date':'Max_arrive', 'End_station_number':'Station_id'})\n",
    "arrive_start.head()"
   ]
  },
  {
   "cell_type": "markdown",
   "id": "81c76e65",
   "metadata": {},
   "source": [
    "### checking that bikes are present in both data sets\n",
    "\n",
    "For ease of comparison, include only bikes in both data sets when tracking starting point over time. Assume that bikes in the old data set and not the new one were removed or broken."
   ]
  },
  {
   "cell_type": "code",
   "execution_count": 32,
   "id": "258b367d",
   "metadata": {},
   "outputs": [
    {
     "name": "stdout",
     "output_type": "stream",
     "text": [
      "6052\n",
      "3982\n"
     ]
    },
    {
     "data": {
      "text/plain": [
       "3963"
      ]
     },
     "execution_count": 32,
     "metadata": {},
     "output_type": "execute_result"
    }
   ],
   "source": [
    "# 19 bikes are present in the old data and not the new data, so we assume that they are removed\n",
    "print(combined_data.Bike_number.nunique())\n",
    "print(combined_old.Bike_number.nunique())\n",
    "len(set(combined_old.Bike_number.unique()).intersection(set(combined_data.Bike_number.unique())))"
   ]
  },
  {
   "cell_type": "code",
   "execution_count": 33,
   "id": "f9b3cd42-bb89-4aac-a150-f4ca9af3e84d",
   "metadata": {},
   "outputs": [],
   "source": [
    "# filter on bikes only present in 2019 data\n",
    "arrive_start_good = arrive_start.loc[arrive_start['Bike_number'].isin(combined_data['Bike_number'].unique())]\n",
    "dep_start_good = dep_start.loc[dep_start['Bike_number'].isin(combined_data['Bike_number'].unique())]"
   ]
  },
  {
   "cell_type": "code",
   "execution_count": 34,
   "id": "aa0c0343",
   "metadata": {},
   "outputs": [
    {
     "data": {
      "text/html": [
       "<div>\n",
       "<style scoped>\n",
       "    .dataframe tbody tr th:only-of-type {\n",
       "        vertical-align: middle;\n",
       "    }\n",
       "\n",
       "    .dataframe tbody tr th {\n",
       "        vertical-align: top;\n",
       "    }\n",
       "\n",
       "    .dataframe thead th {\n",
       "        text-align: right;\n",
       "    }\n",
       "</style>\n",
       "<table border=\"1\" class=\"dataframe\">\n",
       "  <thead>\n",
       "    <tr style=\"text-align: right;\">\n",
       "      <th></th>\n",
       "      <th>Bike_number</th>\n",
       "      <th>Max_arrive</th>\n",
       "      <th>Station_id</th>\n",
       "    </tr>\n",
       "  </thead>\n",
       "  <tbody>\n",
       "    <tr>\n",
       "      <th>0</th>\n",
       "      <td>W21477</td>\n",
       "      <td>2018-12-01 00:00:44</td>\n",
       "      <td>31116</td>\n",
       "    </tr>\n",
       "    <tr>\n",
       "      <th>2</th>\n",
       "      <td>W21353</td>\n",
       "      <td>2018-12-01 00:08:24</td>\n",
       "      <td>31223</td>\n",
       "    </tr>\n",
       "    <tr>\n",
       "      <th>4</th>\n",
       "      <td>W00539</td>\n",
       "      <td>2018-12-01 00:10:55</td>\n",
       "      <td>31286</td>\n",
       "    </tr>\n",
       "    <tr>\n",
       "      <th>6</th>\n",
       "      <td>W22558</td>\n",
       "      <td>2018-12-01 00:12:49</td>\n",
       "      <td>31110</td>\n",
       "    </tr>\n",
       "    <tr>\n",
       "      <th>7</th>\n",
       "      <td>51020</td>\n",
       "      <td>2018-12-27 07:24:03</td>\n",
       "      <td>1</td>\n",
       "    </tr>\n",
       "  </tbody>\n",
       "</table>\n",
       "</div>"
      ],
      "text/plain": [
       "  Bike_number          Max_arrive  Station_id\n",
       "0      W21477 2018-12-01 00:00:44       31116\n",
       "2      W21353 2018-12-01 00:08:24       31223\n",
       "4      W00539 2018-12-01 00:10:55       31286\n",
       "6      W22558 2018-12-01 00:12:49       31110\n",
       "7       51020 2018-12-27 07:24:03           1"
      ]
     },
     "execution_count": 34,
     "metadata": {},
     "output_type": "execute_result"
    }
   ],
   "source": [
    "arrive_start_good.head()"
   ]
  },
  {
   "cell_type": "code",
   "execution_count": 35,
   "id": "189db1e1",
   "metadata": {},
   "outputs": [
    {
     "data": {
      "text/html": [
       "<div>\n",
       "<style scoped>\n",
       "    .dataframe tbody tr th:only-of-type {\n",
       "        vertical-align: middle;\n",
       "    }\n",
       "\n",
       "    .dataframe tbody tr th {\n",
       "        vertical-align: top;\n",
       "    }\n",
       "\n",
       "    .dataframe thead th {\n",
       "        text-align: right;\n",
       "    }\n",
       "</style>\n",
       "<table border=\"1\" class=\"dataframe\">\n",
       "  <thead>\n",
       "    <tr style=\"text-align: right;\">\n",
       "      <th></th>\n",
       "      <th>Bike_number</th>\n",
       "      <th>Max_depart</th>\n",
       "      <th>Station_id</th>\n",
       "    </tr>\n",
       "  </thead>\n",
       "  <tbody>\n",
       "    <tr>\n",
       "      <th>0</th>\n",
       "      <td>W22810</td>\n",
       "      <td>2018-12-01 00:00:55</td>\n",
       "      <td>31203</td>\n",
       "    </tr>\n",
       "    <tr>\n",
       "      <th>2</th>\n",
       "      <td>W23924</td>\n",
       "      <td>2018-12-01 00:09:06</td>\n",
       "      <td>31636</td>\n",
       "    </tr>\n",
       "    <tr>\n",
       "      <th>4</th>\n",
       "      <td>W20167</td>\n",
       "      <td>2018-12-01 00:11:16</td>\n",
       "      <td>31400</td>\n",
       "    </tr>\n",
       "    <tr>\n",
       "      <th>6</th>\n",
       "      <td>W23850</td>\n",
       "      <td>2018-12-01 00:12:50</td>\n",
       "      <td>31104</td>\n",
       "    </tr>\n",
       "    <tr>\n",
       "      <th>7</th>\n",
       "      <td>51020</td>\n",
       "      <td>2018-12-27 07:24:03</td>\n",
       "      <td>1</td>\n",
       "    </tr>\n",
       "  </tbody>\n",
       "</table>\n",
       "</div>"
      ],
      "text/plain": [
       "  Bike_number          Max_depart  Station_id\n",
       "0      W22810 2018-12-01 00:00:55       31203\n",
       "2      W23924 2018-12-01 00:09:06       31636\n",
       "4      W20167 2018-12-01 00:11:16       31400\n",
       "6      W23850 2018-12-01 00:12:50       31104\n",
       "7       51020 2018-12-27 07:24:03           1"
      ]
     },
     "execution_count": 35,
     "metadata": {},
     "output_type": "execute_result"
    }
   ],
   "source": [
    "dep_start_good.head()"
   ]
  },
  {
   "cell_type": "code",
   "execution_count": 36,
   "id": "9f1a3a64-e6c0-4a28-a102-4d6110018d0e",
   "metadata": {},
   "outputs": [
    {
     "data": {
      "text/html": [
       "<div>\n",
       "<style scoped>\n",
       "    .dataframe tbody tr th:only-of-type {\n",
       "        vertical-align: middle;\n",
       "    }\n",
       "\n",
       "    .dataframe tbody tr th {\n",
       "        vertical-align: top;\n",
       "    }\n",
       "\n",
       "    .dataframe thead th {\n",
       "        text-align: right;\n",
       "    }\n",
       "</style>\n",
       "<table border=\"1\" class=\"dataframe\">\n",
       "  <thead>\n",
       "    <tr style=\"text-align: right;\">\n",
       "      <th></th>\n",
       "      <th>Bike_number</th>\n",
       "      <th>Max_arrive</th>\n",
       "      <th>Station_id</th>\n",
       "      <th>Max_depart</th>\n",
       "    </tr>\n",
       "  </thead>\n",
       "  <tbody>\n",
       "    <tr>\n",
       "      <th>0</th>\n",
       "      <td>W21477</td>\n",
       "      <td>2018-12-01 00:00:44</td>\n",
       "      <td>31116</td>\n",
       "      <td>2018-12-01 13:42:31</td>\n",
       "    </tr>\n",
       "    <tr>\n",
       "      <th>1</th>\n",
       "      <td>W21477</td>\n",
       "      <td>2018-12-01 10:06:34</td>\n",
       "      <td>31116</td>\n",
       "      <td>2018-12-01 13:42:31</td>\n",
       "    </tr>\n",
       "    <tr>\n",
       "      <th>2</th>\n",
       "      <td>W21477</td>\n",
       "      <td>2018-12-01 13:42:31</td>\n",
       "      <td>31116</td>\n",
       "      <td>2018-12-01 13:42:31</td>\n",
       "    </tr>\n",
       "    <tr>\n",
       "      <th>3</th>\n",
       "      <td>W21477</td>\n",
       "      <td>2018-12-01 13:42:31</td>\n",
       "      <td>31116</td>\n",
       "      <td>2018-12-01 13:42:31</td>\n",
       "    </tr>\n",
       "    <tr>\n",
       "      <th>4</th>\n",
       "      <td>W21353</td>\n",
       "      <td>2018-12-01 00:08:24</td>\n",
       "      <td>31223</td>\n",
       "      <td>2018-12-01 00:08:24</td>\n",
       "    </tr>\n",
       "  </tbody>\n",
       "</table>\n",
       "</div>"
      ],
      "text/plain": [
       "  Bike_number          Max_arrive  Station_id          Max_depart\n",
       "0      W21477 2018-12-01 00:00:44       31116 2018-12-01 13:42:31\n",
       "1      W21477 2018-12-01 10:06:34       31116 2018-12-01 13:42:31\n",
       "2      W21477 2018-12-01 13:42:31       31116 2018-12-01 13:42:31\n",
       "3      W21477 2018-12-01 13:42:31       31116 2018-12-01 13:42:31\n",
       "4      W21353 2018-12-01 00:08:24       31223 2018-12-01 00:08:24"
      ]
     },
     "execution_count": 36,
     "metadata": {},
     "output_type": "execute_result"
    }
   ],
   "source": [
    "# Merge the arrivals and departure together and identify location of bikes at each station\n",
    "last_bike = arrive_start_good.merge(dep_start_good, how = 'outer', on = ['Bike_number', \"Station_id\"])\n",
    "last_bike.head()"
   ]
  },
  {
   "cell_type": "code",
   "execution_count": 37,
   "id": "7a14f4e3",
   "metadata": {},
   "outputs": [
    {
     "data": {
      "text/plain": [
       "(311943, 4)"
      ]
     },
     "execution_count": 37,
     "metadata": {},
     "output_type": "execute_result"
    }
   ],
   "source": [
    "last_bike.shape"
   ]
  },
  {
   "cell_type": "code",
   "execution_count": 38,
   "id": "f8ed3c9d",
   "metadata": {},
   "outputs": [
    {
     "data": {
      "text/plain": [
       "Bike_number       0\n",
       "Max_arrive     4157\n",
       "Station_id        0\n",
       "Max_depart     2867\n",
       "dtype: int64"
      ]
     },
     "execution_count": 38,
     "metadata": {},
     "output_type": "execute_result"
    }
   ],
   "source": [
    "last_bike.isnull().sum()"
   ]
  },
  {
   "cell_type": "markdown",
   "id": "ec605647",
   "metadata": {},
   "source": [
    "### flagging bikes that are present at a station for end of the old data\n",
    "\n",
    "Idea: if the arrival time is after the departure time, then the bike is at a station; if the most recent departure is NA (i.e. there hasn't been a trip made), then the bike is at a station\n",
    "\n",
    "We assign 0s or 1s to make it easy to count the number of bikes at each station as a starting point."
   ]
  },
  {
   "cell_type": "code",
   "execution_count": 39,
   "id": "933a149b",
   "metadata": {},
   "outputs": [],
   "source": [
    "last_bike['check'] = np.where(((last_bike.Max_arrive > last_bike.Max_depart) | (last_bike.Max_depart.isna())) , 1, 0)"
   ]
  },
  {
   "cell_type": "code",
   "execution_count": 40,
   "id": "83ea2211",
   "metadata": {},
   "outputs": [],
   "source": [
    "last_bike_df = last_bike.groupby(\"Station_id\")['check'].sum().reset_index()"
   ]
  },
  {
   "cell_type": "code",
   "execution_count": 41,
   "id": "d5d922fa",
   "metadata": {},
   "outputs": [
    {
     "data": {
      "text/html": [
       "<div>\n",
       "<style scoped>\n",
       "    .dataframe tbody tr th:only-of-type {\n",
       "        vertical-align: middle;\n",
       "    }\n",
       "\n",
       "    .dataframe tbody tr th {\n",
       "        vertical-align: top;\n",
       "    }\n",
       "\n",
       "    .dataframe thead th {\n",
       "        text-align: right;\n",
       "    }\n",
       "</style>\n",
       "<table border=\"1\" class=\"dataframe\">\n",
       "  <thead>\n",
       "    <tr style=\"text-align: right;\">\n",
       "      <th></th>\n",
       "      <th>Start_day</th>\n",
       "      <th>Start_hour</th>\n",
       "      <th>Station</th>\n",
       "      <th>Arrivals</th>\n",
       "      <th>Departures</th>\n",
       "      <th>Diff</th>\n",
       "    </tr>\n",
       "  </thead>\n",
       "  <tbody>\n",
       "    <tr>\n",
       "      <th>0</th>\n",
       "      <td>2018-12-31</td>\n",
       "      <td>23</td>\n",
       "      <td>1</td>\n",
       "      <td>38283</td>\n",
       "      <td>0</td>\n",
       "      <td>38283</td>\n",
       "    </tr>\n",
       "    <tr>\n",
       "      <th>1</th>\n",
       "      <td>2018-12-31</td>\n",
       "      <td>23</td>\n",
       "      <td>31000</td>\n",
       "      <td>6</td>\n",
       "      <td>0</td>\n",
       "      <td>6</td>\n",
       "    </tr>\n",
       "    <tr>\n",
       "      <th>2</th>\n",
       "      <td>2018-12-31</td>\n",
       "      <td>23</td>\n",
       "      <td>31001</td>\n",
       "      <td>8</td>\n",
       "      <td>0</td>\n",
       "      <td>8</td>\n",
       "    </tr>\n",
       "    <tr>\n",
       "      <th>3</th>\n",
       "      <td>2018-12-31</td>\n",
       "      <td>23</td>\n",
       "      <td>31002</td>\n",
       "      <td>24</td>\n",
       "      <td>0</td>\n",
       "      <td>24</td>\n",
       "    </tr>\n",
       "    <tr>\n",
       "      <th>4</th>\n",
       "      <td>2018-12-31</td>\n",
       "      <td>23</td>\n",
       "      <td>31003</td>\n",
       "      <td>12</td>\n",
       "      <td>0</td>\n",
       "      <td>12</td>\n",
       "    </tr>\n",
       "  </tbody>\n",
       "</table>\n",
       "</div>"
      ],
      "text/plain": [
       "    Start_day  Start_hour  Station  Arrivals  Departures   Diff\n",
       "0  2018-12-31          23        1     38283           0  38283\n",
       "1  2018-12-31          23    31000         6           0      6\n",
       "2  2018-12-31          23    31001         8           0      8\n",
       "3  2018-12-31          23    31002        24           0     24\n",
       "4  2018-12-31          23    31003        12           0     12"
      ]
     },
     "execution_count": 41,
     "metadata": {},
     "output_type": "execute_result"
    }
   ],
   "source": [
    "## adding columns to data frame for time consistency (getting last available observation)\n",
    "# we can then use this dataframe to match up with combined data that can be appended\n",
    "last_bike_df['Start_day'] = dt.date(day = 31, month = 12, year = 2018)\n",
    "last_bike_df['Start_hour'] = 23\n",
    "last_bike_df['Departures'] = 0\n",
    "last_bike_df.rename(columns = {'check':'Arrivals'}, inplace = True)\n",
    "last_bike_df.rename(columns = {\"Station_id\":\"Station\"}, inplace = True)\n",
    "last_bike_df = last_bike_df.reindex(columns = comb_a_d.columns)\n",
    "last_bike_df['Diff'] = last_bike_df.Arrivals.sub(last_bike_df.Departures)\n",
    "last_bike_df.head()"
   ]
  },
  {
   "cell_type": "markdown",
   "id": "2e6f1c02-02a4-4173-8513-33e30500caf5",
   "metadata": {},
   "source": [
    "### calculating arrival and departure differences"
   ]
  },
  {
   "cell_type": "code",
   "execution_count": 42,
   "id": "c18c8e8e-19f4-4269-9937-6b4d0c64f67a",
   "metadata": {},
   "outputs": [
    {
     "data": {
      "text/html": [
       "<div>\n",
       "<style scoped>\n",
       "    .dataframe tbody tr th:only-of-type {\n",
       "        vertical-align: middle;\n",
       "    }\n",
       "\n",
       "    .dataframe tbody tr th {\n",
       "        vertical-align: top;\n",
       "    }\n",
       "\n",
       "    .dataframe thead th {\n",
       "        text-align: right;\n",
       "    }\n",
       "</style>\n",
       "<table border=\"1\" class=\"dataframe\">\n",
       "  <thead>\n",
       "    <tr style=\"text-align: right;\">\n",
       "      <th></th>\n",
       "      <th>Start_day</th>\n",
       "      <th>Start_hour</th>\n",
       "      <th>Station</th>\n",
       "      <th>Arrivals</th>\n",
       "      <th>Departures</th>\n",
       "      <th>Diff</th>\n",
       "    </tr>\n",
       "  </thead>\n",
       "  <tbody>\n",
       "    <tr>\n",
       "      <th>0</th>\n",
       "      <td>2019-01-01</td>\n",
       "      <td>0</td>\n",
       "      <td>1</td>\n",
       "      <td>9.0</td>\n",
       "      <td>9.0</td>\n",
       "      <td>0.0</td>\n",
       "    </tr>\n",
       "    <tr>\n",
       "      <th>1</th>\n",
       "      <td>2019-01-01</td>\n",
       "      <td>0</td>\n",
       "      <td>31030</td>\n",
       "      <td>1.0</td>\n",
       "      <td>0.0</td>\n",
       "      <td>1.0</td>\n",
       "    </tr>\n",
       "    <tr>\n",
       "      <th>2</th>\n",
       "      <td>2019-01-01</td>\n",
       "      <td>0</td>\n",
       "      <td>31032</td>\n",
       "      <td>1.0</td>\n",
       "      <td>0.0</td>\n",
       "      <td>1.0</td>\n",
       "    </tr>\n",
       "    <tr>\n",
       "      <th>3</th>\n",
       "      <td>2019-01-01</td>\n",
       "      <td>0</td>\n",
       "      <td>31041</td>\n",
       "      <td>1.0</td>\n",
       "      <td>1.0</td>\n",
       "      <td>0.0</td>\n",
       "    </tr>\n",
       "    <tr>\n",
       "      <th>4</th>\n",
       "      <td>2019-01-01</td>\n",
       "      <td>0</td>\n",
       "      <td>31048</td>\n",
       "      <td>1.0</td>\n",
       "      <td>0.0</td>\n",
       "      <td>1.0</td>\n",
       "    </tr>\n",
       "  </tbody>\n",
       "</table>\n",
       "</div>"
      ],
      "text/plain": [
       "    Start_day  Start_hour  Station  Arrivals  Departures  Diff\n",
       "0  2019-01-01           0        1       9.0         9.0   0.0\n",
       "1  2019-01-01           0    31030       1.0         0.0   1.0\n",
       "2  2019-01-01           0    31032       1.0         0.0   1.0\n",
       "3  2019-01-01           0    31041       1.0         1.0   0.0\n",
       "4  2019-01-01           0    31048       1.0         0.0   1.0"
      ]
     },
     "execution_count": 42,
     "metadata": {},
     "output_type": "execute_result"
    }
   ],
   "source": [
    "comb_a_d['Diff'] = comb_a_d['Arrivals'].sub(comb_a_d['Departures'])\n",
    "comb_a_d.head()"
   ]
  },
  {
   "cell_type": "code",
   "execution_count": 43,
   "id": "6a412d5c-38d1-475b-82c2-aff094a4ff8e",
   "metadata": {},
   "outputs": [
    {
     "data": {
      "text/html": [
       "<div>\n",
       "<style scoped>\n",
       "    .dataframe tbody tr th:only-of-type {\n",
       "        vertical-align: middle;\n",
       "    }\n",
       "\n",
       "    .dataframe tbody tr th {\n",
       "        vertical-align: top;\n",
       "    }\n",
       "\n",
       "    .dataframe thead th {\n",
       "        text-align: right;\n",
       "    }\n",
       "</style>\n",
       "<table border=\"1\" class=\"dataframe\">\n",
       "  <thead>\n",
       "    <tr style=\"text-align: right;\">\n",
       "      <th></th>\n",
       "      <th>Start_day</th>\n",
       "      <th>Start_hour</th>\n",
       "      <th>Station</th>\n",
       "      <th>Arrivals</th>\n",
       "      <th>Departures</th>\n",
       "      <th>Diff</th>\n",
       "    </tr>\n",
       "  </thead>\n",
       "  <tbody>\n",
       "    <tr>\n",
       "      <th>0</th>\n",
       "      <td>2018-12-31</td>\n",
       "      <td>23</td>\n",
       "      <td>1</td>\n",
       "      <td>38283.0</td>\n",
       "      <td>0.0</td>\n",
       "      <td>38283.0</td>\n",
       "    </tr>\n",
       "    <tr>\n",
       "      <th>1</th>\n",
       "      <td>2018-12-31</td>\n",
       "      <td>23</td>\n",
       "      <td>31000</td>\n",
       "      <td>6.0</td>\n",
       "      <td>0.0</td>\n",
       "      <td>6.0</td>\n",
       "    </tr>\n",
       "    <tr>\n",
       "      <th>2</th>\n",
       "      <td>2018-12-31</td>\n",
       "      <td>23</td>\n",
       "      <td>31001</td>\n",
       "      <td>8.0</td>\n",
       "      <td>0.0</td>\n",
       "      <td>8.0</td>\n",
       "    </tr>\n",
       "    <tr>\n",
       "      <th>3</th>\n",
       "      <td>2018-12-31</td>\n",
       "      <td>23</td>\n",
       "      <td>31002</td>\n",
       "      <td>24.0</td>\n",
       "      <td>0.0</td>\n",
       "      <td>24.0</td>\n",
       "    </tr>\n",
       "    <tr>\n",
       "      <th>4</th>\n",
       "      <td>2018-12-31</td>\n",
       "      <td>23</td>\n",
       "      <td>31003</td>\n",
       "      <td>12.0</td>\n",
       "      <td>0.0</td>\n",
       "      <td>12.0</td>\n",
       "    </tr>\n",
       "  </tbody>\n",
       "</table>\n",
       "</div>"
      ],
      "text/plain": [
       "    Start_day  Start_hour  Station  Arrivals  Departures     Diff\n",
       "0  2018-12-31          23        1   38283.0         0.0  38283.0\n",
       "1  2018-12-31          23    31000       6.0         0.0      6.0\n",
       "2  2018-12-31          23    31001       8.0         0.0      8.0\n",
       "3  2018-12-31          23    31002      24.0         0.0     24.0\n",
       "4  2018-12-31          23    31003      12.0         0.0     12.0"
      ]
     },
     "execution_count": 43,
     "metadata": {},
     "output_type": "execute_result"
    }
   ],
   "source": [
    "## appending the data\n",
    "full = pd.concat([last_bike_df, comb_a_d], axis = 0)\n",
    "full.head()"
   ]
  },
  {
   "cell_type": "code",
   "execution_count": 44,
   "id": "9379a33f",
   "metadata": {},
   "outputs": [
    {
     "data": {
      "text/plain": [
       "(1786026, 6)"
      ]
     },
     "execution_count": 44,
     "metadata": {},
     "output_type": "execute_result"
    }
   ],
   "source": [
    "full.shape"
   ]
  },
  {
   "cell_type": "code",
   "execution_count": 45,
   "id": "a854c366",
   "metadata": {},
   "outputs": [
    {
     "name": "stdout",
     "output_type": "stream",
     "text": [
      "<class 'pandas.core.frame.DataFrame'>\n",
      "Int64Index: 1786026 entries, 0 to 1785500\n",
      "Data columns (total 6 columns):\n",
      " #   Column      Dtype  \n",
      "---  ------      -----  \n",
      " 0   Start_day   object \n",
      " 1   Start_hour  int64  \n",
      " 2   Station     int64  \n",
      " 3   Arrivals    float64\n",
      " 4   Departures  float64\n",
      " 5   Diff        float64\n",
      "dtypes: float64(3), int64(2), object(1)\n",
      "memory usage: 95.4+ MB\n"
     ]
    }
   ],
   "source": [
    "full.info()"
   ]
  },
  {
   "cell_type": "code",
   "execution_count": 46,
   "id": "0fbda8b8",
   "metadata": {},
   "outputs": [
    {
     "data": {
      "text/plain": [
       "Start_day     0\n",
       "Start_hour    0\n",
       "Station       0\n",
       "Arrivals      0\n",
       "Departures    0\n",
       "Diff          0\n",
       "dtype: int64"
      ]
     },
     "execution_count": 46,
     "metadata": {},
     "output_type": "execute_result"
    }
   ],
   "source": [
    "full.isnull().sum()"
   ]
  },
  {
   "cell_type": "markdown",
   "id": "7cf4fb8f-7a8b-403d-a25b-07d4feea6b52",
   "metadata": {},
   "source": [
    "### Including station capacity\n",
    "\n",
    "We now have the number of bikes present at each station, and want to understand the availability relative to capacity ratio for further analysis."
   ]
  },
  {
   "cell_type": "code",
   "execution_count": 47,
   "id": "191999d7-b061-4aea-a07c-226258aaf0b7",
   "metadata": {},
   "outputs": [
    {
     "data": {
      "text/html": [
       "<div>\n",
       "<style scoped>\n",
       "    .dataframe tbody tr th:only-of-type {\n",
       "        vertical-align: middle;\n",
       "    }\n",
       "\n",
       "    .dataframe tbody tr th {\n",
       "        vertical-align: top;\n",
       "    }\n",
       "\n",
       "    .dataframe thead th {\n",
       "        text-align: right;\n",
       "    }\n",
       "</style>\n",
       "<table border=\"1\" class=\"dataframe\">\n",
       "  <thead>\n",
       "    <tr style=\"text-align: right;\">\n",
       "      <th></th>\n",
       "      <th>Latitude</th>\n",
       "      <th>Longitude</th>\n",
       "      <th>Name</th>\n",
       "      <th>Capacity</th>\n",
       "      <th>Region_name</th>\n",
       "    </tr>\n",
       "  </thead>\n",
       "  <tbody>\n",
       "    <tr>\n",
       "      <th>0</th>\n",
       "      <td>38.898984</td>\n",
       "      <td>-77.078317</td>\n",
       "      <td>21st St &amp; N Pierce St</td>\n",
       "      <td>15</td>\n",
       "      <td>Arlington, VA</td>\n",
       "    </tr>\n",
       "    <tr>\n",
       "      <th>1</th>\n",
       "      <td>38.858971</td>\n",
       "      <td>-77.053230</td>\n",
       "      <td>Eads St &amp; 15th St S</td>\n",
       "      <td>15</td>\n",
       "      <td>Arlington, VA</td>\n",
       "    </tr>\n",
       "    <tr>\n",
       "      <th>2</th>\n",
       "      <td>38.856425</td>\n",
       "      <td>-77.049232</td>\n",
       "      <td>Crystal Dr &amp; 20th St S</td>\n",
       "      <td>17</td>\n",
       "      <td>Arlington, VA</td>\n",
       "    </tr>\n",
       "    <tr>\n",
       "      <th>3</th>\n",
       "      <td>38.861056</td>\n",
       "      <td>-77.049417</td>\n",
       "      <td>Crystal Dr &amp; 15th St S</td>\n",
       "      <td>16</td>\n",
       "      <td>Arlington, VA</td>\n",
       "    </tr>\n",
       "    <tr>\n",
       "      <th>4</th>\n",
       "      <td>38.857866</td>\n",
       "      <td>-77.059490</td>\n",
       "      <td>Aurora Hills Cmty Ctr / 18th St &amp; S Hayes St</td>\n",
       "      <td>12</td>\n",
       "      <td>Arlington, VA</td>\n",
       "    </tr>\n",
       "  </tbody>\n",
       "</table>\n",
       "</div>"
      ],
      "text/plain": [
       "    Latitude  Longitude                                          Name  \\\n",
       "0  38.898984 -77.078317                         21st St & N Pierce St   \n",
       "1  38.858971 -77.053230                           Eads St & 15th St S   \n",
       "2  38.856425 -77.049232                        Crystal Dr & 20th St S   \n",
       "3  38.861056 -77.049417                        Crystal Dr & 15th St S   \n",
       "4  38.857866 -77.059490  Aurora Hills Cmty Ctr / 18th St & S Hayes St   \n",
       "\n",
       "   Capacity    Region_name  \n",
       "0        15  Arlington, VA  \n",
       "1        15  Arlington, VA  \n",
       "2        17  Arlington, VA  \n",
       "3        16  Arlington, VA  \n",
       "4        12  Arlington, VA  "
      ]
     },
     "execution_count": 47,
     "metadata": {},
     "output_type": "execute_result"
    }
   ],
   "source": [
    "capacity = pd.read_csv('Capital_Bike_Share_Locations.csv',\n",
    "                       usecols = [\"NAME\", \"LATITUDE\", \"LONGITUDE\", \"CAPACITY\", \"REGION_NAME\"]) # usecols and pass a list []\n",
    "capacity.columns = [\"_\".join(col.split(\" \")).capitalize() for col in capacity.columns]\n",
    "capacity.head()"
   ]
  },
  {
   "cell_type": "code",
   "execution_count": 69,
   "id": "65d2aacc",
   "metadata": {},
   "outputs": [
    {
     "data": {
      "text/plain": [
       "Start_station_number     0\n",
       "Start_station            0\n",
       "Latitude                94\n",
       "Longitude               94\n",
       "Name                    94\n",
       "Capacity                94\n",
       "Region_name             94\n",
       "dtype: int64"
      ]
     },
     "execution_count": 69,
     "metadata": {},
     "output_type": "execute_result"
    }
   ],
   "source": [
    "# some stations in the data set are missing from the capacity data set (94) - these will be removed\n",
    "combined_data[[\"Start_station_number\", \"Start_station\"]].drop_duplicates(subset = ['Start_station_number'])\\\n",
    ".merge(capacity, how = 'left',left_on = \"Start_station\", right_on = \"Name\").isnull().sum()"
   ]
  },
  {
   "cell_type": "code",
   "execution_count": 62,
   "id": "efb79a76",
   "metadata": {},
   "outputs": [
    {
     "data": {
      "text/plain": [
       "True"
      ]
     },
     "execution_count": 62,
     "metadata": {},
     "output_type": "execute_result"
    }
   ],
   "source": [
    "# check that van is presenet\n",
    "1 in combined_data[[\"Start_station_number\", \"Start_station\"]].drop_duplicates(subset = ['Start_station_number'])[\"Start_station_number\"]"
   ]
  },
  {
   "cell_type": "code",
   "execution_count": 70,
   "id": "6414c609",
   "metadata": {},
   "outputs": [
    {
     "data": {
      "text/plain": [
       "Start_day                    0\n",
       "Start_hour                   0\n",
       "Station                      0\n",
       "Arrivals                     0\n",
       "Departures                   0\n",
       "Diff                         0\n",
       "Start_station_number         0\n",
       "Start_station                0\n",
       "Latitude                240095\n",
       "Longitude               240095\n",
       "Name                    240095\n",
       "Capacity                240095\n",
       "Region_name             240095\n",
       "dtype: int64"
      ]
     },
     "execution_count": 70,
     "metadata": {},
     "output_type": "execute_result"
    }
   ],
   "source": [
    "# first merge adds on station name, second adds on the other columns from capacity (location, capacity, etc.)\n",
    "full_bike = full.merge(combined_data[[\"Start_station_number\", \"Start_station\"]].drop_duplicates(subset = ['Start_station_number']),\n",
    "          how = 'left', left_on = \"Station\", right_on = \"Start_station_number\")\\\n",
    ".merge(capacity, how = \"left\", left_on = \"Start_station\", right_on = \"Name\")\n",
    "full_bike.isnull().sum()"
   ]
  },
  {
   "cell_type": "code",
   "execution_count": 71,
   "id": "c7a3ccc7",
   "metadata": {},
   "outputs": [
    {
     "data": {
      "text/plain": [
       "True"
      ]
     },
     "execution_count": 71,
     "metadata": {},
     "output_type": "execute_result"
    }
   ],
   "source": [
    "1 in full_bike.Start_station_number.unique()"
   ]
  },
  {
   "cell_type": "code",
   "execution_count": 72,
   "id": "00e32369",
   "metadata": {},
   "outputs": [
    {
     "data": {
      "text/html": [
       "<div>\n",
       "<style scoped>\n",
       "    .dataframe tbody tr th:only-of-type {\n",
       "        vertical-align: middle;\n",
       "    }\n",
       "\n",
       "    .dataframe tbody tr th {\n",
       "        vertical-align: top;\n",
       "    }\n",
       "\n",
       "    .dataframe thead th {\n",
       "        text-align: right;\n",
       "    }\n",
       "</style>\n",
       "<table border=\"1\" class=\"dataframe\">\n",
       "  <thead>\n",
       "    <tr style=\"text-align: right;\">\n",
       "      <th></th>\n",
       "      <th>Start_day</th>\n",
       "      <th>Start_hour</th>\n",
       "      <th>Station</th>\n",
       "      <th>Arrivals</th>\n",
       "      <th>Departures</th>\n",
       "      <th>Diff</th>\n",
       "      <th>Start_station_number</th>\n",
       "      <th>Start_station</th>\n",
       "      <th>Latitude</th>\n",
       "      <th>Longitude</th>\n",
       "      <th>Name</th>\n",
       "      <th>Capacity</th>\n",
       "      <th>Region_name</th>\n",
       "    </tr>\n",
       "  </thead>\n",
       "  <tbody>\n",
       "    <tr>\n",
       "      <th>0</th>\n",
       "      <td>2018-12-31</td>\n",
       "      <td>23</td>\n",
       "      <td>1</td>\n",
       "      <td>38283.0</td>\n",
       "      <td>0.0</td>\n",
       "      <td>38283.0</td>\n",
       "      <td>1</td>\n",
       "      <td>Van</td>\n",
       "      <td>NaN</td>\n",
       "      <td>NaN</td>\n",
       "      <td>NaN</td>\n",
       "      <td>NaN</td>\n",
       "      <td>NaN</td>\n",
       "    </tr>\n",
       "    <tr>\n",
       "      <th>1</th>\n",
       "      <td>2018-12-31</td>\n",
       "      <td>23</td>\n",
       "      <td>31000</td>\n",
       "      <td>6.0</td>\n",
       "      <td>0.0</td>\n",
       "      <td>6.0</td>\n",
       "      <td>31000</td>\n",
       "      <td>Eads St &amp; 15th St S</td>\n",
       "      <td>38.858971</td>\n",
       "      <td>-77.053230</td>\n",
       "      <td>Eads St &amp; 15th St S</td>\n",
       "      <td>15.0</td>\n",
       "      <td>Arlington, VA</td>\n",
       "    </tr>\n",
       "    <tr>\n",
       "      <th>2</th>\n",
       "      <td>2018-12-31</td>\n",
       "      <td>23</td>\n",
       "      <td>31001</td>\n",
       "      <td>8.0</td>\n",
       "      <td>0.0</td>\n",
       "      <td>8.0</td>\n",
       "      <td>31001</td>\n",
       "      <td>18th &amp; Eads St.</td>\n",
       "      <td>NaN</td>\n",
       "      <td>NaN</td>\n",
       "      <td>NaN</td>\n",
       "      <td>NaN</td>\n",
       "      <td>NaN</td>\n",
       "    </tr>\n",
       "    <tr>\n",
       "      <th>3</th>\n",
       "      <td>2018-12-31</td>\n",
       "      <td>23</td>\n",
       "      <td>31002</td>\n",
       "      <td>24.0</td>\n",
       "      <td>0.0</td>\n",
       "      <td>24.0</td>\n",
       "      <td>31002</td>\n",
       "      <td>Crystal Dr &amp; 20th St S</td>\n",
       "      <td>38.856425</td>\n",
       "      <td>-77.049232</td>\n",
       "      <td>Crystal Dr &amp; 20th St S</td>\n",
       "      <td>17.0</td>\n",
       "      <td>Arlington, VA</td>\n",
       "    </tr>\n",
       "    <tr>\n",
       "      <th>4</th>\n",
       "      <td>2018-12-31</td>\n",
       "      <td>23</td>\n",
       "      <td>31003</td>\n",
       "      <td>12.0</td>\n",
       "      <td>0.0</td>\n",
       "      <td>12.0</td>\n",
       "      <td>31003</td>\n",
       "      <td>Crystal Dr &amp; 15th St S</td>\n",
       "      <td>38.861056</td>\n",
       "      <td>-77.049417</td>\n",
       "      <td>Crystal Dr &amp; 15th St S</td>\n",
       "      <td>16.0</td>\n",
       "      <td>Arlington, VA</td>\n",
       "    </tr>\n",
       "  </tbody>\n",
       "</table>\n",
       "</div>"
      ],
      "text/plain": [
       "    Start_day  Start_hour  Station  Arrivals  Departures     Diff  \\\n",
       "0  2018-12-31          23        1   38283.0         0.0  38283.0   \n",
       "1  2018-12-31          23    31000       6.0         0.0      6.0   \n",
       "2  2018-12-31          23    31001       8.0         0.0      8.0   \n",
       "3  2018-12-31          23    31002      24.0         0.0     24.0   \n",
       "4  2018-12-31          23    31003      12.0         0.0     12.0   \n",
       "\n",
       "   Start_station_number           Start_station   Latitude  Longitude  \\\n",
       "0                     1                     Van        NaN        NaN   \n",
       "1                 31000     Eads St & 15th St S  38.858971 -77.053230   \n",
       "2                 31001         18th & Eads St.        NaN        NaN   \n",
       "3                 31002  Crystal Dr & 20th St S  38.856425 -77.049232   \n",
       "4                 31003  Crystal Dr & 15th St S  38.861056 -77.049417   \n",
       "\n",
       "                     Name  Capacity    Region_name  \n",
       "0                     NaN       NaN            NaN  \n",
       "1     Eads St & 15th St S      15.0  Arlington, VA  \n",
       "2                     NaN       NaN            NaN  \n",
       "3  Crystal Dr & 20th St S      17.0  Arlington, VA  \n",
       "4  Crystal Dr & 15th St S      16.0  Arlington, VA  "
      ]
     },
     "execution_count": 72,
     "metadata": {},
     "output_type": "execute_result"
    }
   ],
   "source": [
    "full_bike.head()"
   ]
  },
  {
   "cell_type": "code",
   "execution_count": 75,
   "id": "31246280",
   "metadata": {},
   "outputs": [
    {
     "data": {
      "text/plain": [
       "Index(['Start_day', 'Start_hour', 'Station', 'Arrivals', 'Departures', 'Diff',\n",
       "       'Start_station_number', 'Start_station', 'Latitude', 'Longitude',\n",
       "       'Name', 'Capacity', 'Region_name'],\n",
       "      dtype='object')"
      ]
     },
     "execution_count": 75,
     "metadata": {},
     "output_type": "execute_result"
    }
   ],
   "source": [
    "full_bike.columns"
   ]
  },
  {
   "cell_type": "markdown",
   "id": "34e542e8-9d5d-4062-bfd0-53e7b2a1eaa9",
   "metadata": {},
   "source": [
    "### data validation"
   ]
  },
  {
   "cell_type": "code",
   "execution_count": 77,
   "id": "1651597f-ed7c-4a1d-8f13-ab9cf046f869",
   "metadata": {},
   "outputs": [
    {
     "data": {
      "text/html": [
       "<div>\n",
       "<style scoped>\n",
       "    .dataframe tbody tr th:only-of-type {\n",
       "        vertical-align: middle;\n",
       "    }\n",
       "\n",
       "    .dataframe tbody tr th {\n",
       "        vertical-align: top;\n",
       "    }\n",
       "\n",
       "    .dataframe thead th {\n",
       "        text-align: right;\n",
       "    }\n",
       "</style>\n",
       "<table border=\"1\" class=\"dataframe\">\n",
       "  <thead>\n",
       "    <tr style=\"text-align: right;\">\n",
       "      <th></th>\n",
       "      <th>Start_day</th>\n",
       "      <th>Start_hour</th>\n",
       "      <th>Station</th>\n",
       "      <th>Arrivals</th>\n",
       "      <th>Departures</th>\n",
       "      <th>Diff</th>\n",
       "      <th>Start_station_number</th>\n",
       "      <th>Start_station</th>\n",
       "      <th>Latitude</th>\n",
       "      <th>Longitude</th>\n",
       "      <th>Name</th>\n",
       "      <th>Capacity</th>\n",
       "      <th>Region_name</th>\n",
       "    </tr>\n",
       "  </thead>\n",
       "  <tbody>\n",
       "    <tr>\n",
       "      <th>0</th>\n",
       "      <td>2019-11-26</td>\n",
       "      <td>9</td>\n",
       "      <td>0</td>\n",
       "      <td>2.0</td>\n",
       "      <td>0.0</td>\n",
       "      <td>2.0</td>\n",
       "      <td>0</td>\n",
       "      <td>22nd &amp; H St NW</td>\n",
       "      <td>38.898925</td>\n",
       "      <td>-77.048852</td>\n",
       "      <td>22nd &amp; H St NW</td>\n",
       "      <td>17.0</td>\n",
       "      <td>Washington, DC</td>\n",
       "    </tr>\n",
       "    <tr>\n",
       "      <th>1</th>\n",
       "      <td>2019-11-27</td>\n",
       "      <td>9</td>\n",
       "      <td>0</td>\n",
       "      <td>1.0</td>\n",
       "      <td>0.0</td>\n",
       "      <td>1.0</td>\n",
       "      <td>0</td>\n",
       "      <td>22nd &amp; H St NW</td>\n",
       "      <td>38.898925</td>\n",
       "      <td>-77.048852</td>\n",
       "      <td>22nd &amp; H St NW</td>\n",
       "      <td>17.0</td>\n",
       "      <td>Washington, DC</td>\n",
       "    </tr>\n",
       "    <tr>\n",
       "      <th>2</th>\n",
       "      <td>2019-11-28</td>\n",
       "      <td>16</td>\n",
       "      <td>0</td>\n",
       "      <td>1.0</td>\n",
       "      <td>0.0</td>\n",
       "      <td>1.0</td>\n",
       "      <td>0</td>\n",
       "      <td>22nd &amp; H St NW</td>\n",
       "      <td>38.898925</td>\n",
       "      <td>-77.048852</td>\n",
       "      <td>22nd &amp; H St NW</td>\n",
       "      <td>17.0</td>\n",
       "      <td>Washington, DC</td>\n",
       "    </tr>\n",
       "    <tr>\n",
       "      <th>3</th>\n",
       "      <td>2019-11-30</td>\n",
       "      <td>23</td>\n",
       "      <td>0</td>\n",
       "      <td>1.0</td>\n",
       "      <td>0.0</td>\n",
       "      <td>1.0</td>\n",
       "      <td>0</td>\n",
       "      <td>22nd &amp; H St NW</td>\n",
       "      <td>38.898925</td>\n",
       "      <td>-77.048852</td>\n",
       "      <td>22nd &amp; H St NW</td>\n",
       "      <td>17.0</td>\n",
       "      <td>Washington, DC</td>\n",
       "    </tr>\n",
       "    <tr>\n",
       "      <th>4</th>\n",
       "      <td>2019-12-01</td>\n",
       "      <td>16</td>\n",
       "      <td>0</td>\n",
       "      <td>0.0</td>\n",
       "      <td>1.0</td>\n",
       "      <td>-1.0</td>\n",
       "      <td>0</td>\n",
       "      <td>22nd &amp; H St NW</td>\n",
       "      <td>38.898925</td>\n",
       "      <td>-77.048852</td>\n",
       "      <td>22nd &amp; H St NW</td>\n",
       "      <td>17.0</td>\n",
       "      <td>Washington, DC</td>\n",
       "    </tr>\n",
       "  </tbody>\n",
       "</table>\n",
       "</div>"
      ],
      "text/plain": [
       "    Start_day  Start_hour  Station  Arrivals  Departures  Diff  \\\n",
       "0  2019-11-26           9        0       2.0         0.0   2.0   \n",
       "1  2019-11-27           9        0       1.0         0.0   1.0   \n",
       "2  2019-11-28          16        0       1.0         0.0   1.0   \n",
       "3  2019-11-30          23        0       1.0         0.0   1.0   \n",
       "4  2019-12-01          16        0       0.0         1.0  -1.0   \n",
       "\n",
       "   Start_station_number   Start_station   Latitude  Longitude            Name  \\\n",
       "0                     0  22nd & H St NW  38.898925 -77.048852  22nd & H St NW   \n",
       "1                     0  22nd & H St NW  38.898925 -77.048852  22nd & H St NW   \n",
       "2                     0  22nd & H St NW  38.898925 -77.048852  22nd & H St NW   \n",
       "3                     0  22nd & H St NW  38.898925 -77.048852  22nd & H St NW   \n",
       "4                     0  22nd & H St NW  38.898925 -77.048852  22nd & H St NW   \n",
       "\n",
       "   Capacity     Region_name  \n",
       "0      17.0  Washington, DC  \n",
       "1      17.0  Washington, DC  \n",
       "2      17.0  Washington, DC  \n",
       "3      17.0  Washington, DC  \n",
       "4      17.0  Washington, DC  "
      ]
     },
     "execution_count": 77,
     "metadata": {},
     "output_type": "execute_result"
    }
   ],
   "source": [
    "# Sort the values so that we can view the stations individually one at a time in chronological order\n",
    "full_bike.sort_values(['Station','Start_day', 'Start_hour'], inplace = True)\n",
    "full_bike.reset_index(drop = True, inplace = True)\n",
    "full_bike.head()"
   ]
  },
  {
   "cell_type": "code",
   "execution_count": 85,
   "id": "9bf6c061",
   "metadata": {},
   "outputs": [
    {
     "data": {
      "text/html": [
       "<div>\n",
       "<style scoped>\n",
       "    .dataframe tbody tr th:only-of-type {\n",
       "        vertical-align: middle;\n",
       "    }\n",
       "\n",
       "    .dataframe tbody tr th {\n",
       "        vertical-align: top;\n",
       "    }\n",
       "\n",
       "    .dataframe thead th {\n",
       "        text-align: right;\n",
       "    }\n",
       "</style>\n",
       "<table border=\"1\" class=\"dataframe\">\n",
       "  <thead>\n",
       "    <tr style=\"text-align: right;\">\n",
       "      <th></th>\n",
       "      <th>Station</th>\n",
       "      <th>Start_day</th>\n",
       "      <th>Start_hour</th>\n",
       "      <th>Diff</th>\n",
       "    </tr>\n",
       "  </thead>\n",
       "  <tbody>\n",
       "    <tr>\n",
       "      <th>0</th>\n",
       "      <td>0</td>\n",
       "      <td>2019-11-26</td>\n",
       "      <td>9</td>\n",
       "      <td>2.0</td>\n",
       "    </tr>\n",
       "    <tr>\n",
       "      <th>1</th>\n",
       "      <td>0</td>\n",
       "      <td>2019-11-27</td>\n",
       "      <td>9</td>\n",
       "      <td>3.0</td>\n",
       "    </tr>\n",
       "    <tr>\n",
       "      <th>2</th>\n",
       "      <td>0</td>\n",
       "      <td>2019-11-28</td>\n",
       "      <td>16</td>\n",
       "      <td>4.0</td>\n",
       "    </tr>\n",
       "    <tr>\n",
       "      <th>3</th>\n",
       "      <td>0</td>\n",
       "      <td>2019-11-30</td>\n",
       "      <td>23</td>\n",
       "      <td>5.0</td>\n",
       "    </tr>\n",
       "    <tr>\n",
       "      <th>4</th>\n",
       "      <td>0</td>\n",
       "      <td>2019-12-01</td>\n",
       "      <td>16</td>\n",
       "      <td>4.0</td>\n",
       "    </tr>\n",
       "    <tr>\n",
       "      <th>...</th>\n",
       "      <td>...</td>\n",
       "      <td>...</td>\n",
       "      <td>...</td>\n",
       "      <td>...</td>\n",
       "    </tr>\n",
       "    <tr>\n",
       "      <th>1786021</th>\n",
       "      <td>32609</td>\n",
       "      <td>2019-12-26</td>\n",
       "      <td>13</td>\n",
       "      <td>-10.0</td>\n",
       "    </tr>\n",
       "    <tr>\n",
       "      <th>1786022</th>\n",
       "      <td>32609</td>\n",
       "      <td>2019-12-28</td>\n",
       "      <td>11</td>\n",
       "      <td>-10.0</td>\n",
       "    </tr>\n",
       "    <tr>\n",
       "      <th>1786023</th>\n",
       "      <td>32609</td>\n",
       "      <td>2019-12-28</td>\n",
       "      <td>13</td>\n",
       "      <td>-8.0</td>\n",
       "    </tr>\n",
       "    <tr>\n",
       "      <th>1786024</th>\n",
       "      <td>32609</td>\n",
       "      <td>2019-12-28</td>\n",
       "      <td>14</td>\n",
       "      <td>-10.0</td>\n",
       "    </tr>\n",
       "    <tr>\n",
       "      <th>1786025</th>\n",
       "      <td>32609</td>\n",
       "      <td>2019-12-30</td>\n",
       "      <td>10</td>\n",
       "      <td>-11.0</td>\n",
       "    </tr>\n",
       "  </tbody>\n",
       "</table>\n",
       "<p>1786026 rows × 4 columns</p>\n",
       "</div>"
      ],
      "text/plain": [
       "         Station   Start_day  Start_hour  Diff\n",
       "0              0  2019-11-26           9   2.0\n",
       "1              0  2019-11-27           9   3.0\n",
       "2              0  2019-11-28          16   4.0\n",
       "3              0  2019-11-30          23   5.0\n",
       "4              0  2019-12-01          16   4.0\n",
       "...          ...         ...         ...   ...\n",
       "1786021    32609  2019-12-26          13 -10.0\n",
       "1786022    32609  2019-12-28          11 -10.0\n",
       "1786023    32609  2019-12-28          13  -8.0\n",
       "1786024    32609  2019-12-28          14 -10.0\n",
       "1786025    32609  2019-12-30          10 -11.0\n",
       "\n",
       "[1786026 rows x 4 columns]"
      ]
     },
     "execution_count": 85,
     "metadata": {},
     "output_type": "execute_result"
    }
   ],
   "source": [
    "full_bike[['Station','Start_day', 'Start_hour','Diff']]\\\n",
    ".groupby(['Station','Start_day', 'Start_hour'])\\\n",
    ".sum().groupby(level=0).cumsum().reset_index()"
   ]
  },
  {
   "cell_type": "code",
   "execution_count": 86,
   "id": "bc670f8f-bd4e-4fcc-90c6-e792b8d53ec8",
   "metadata": {},
   "outputs": [],
   "source": [
    "## by station by day by hour, calculate cumulative sum of bikes present at a location\n",
    "full_bike['cumu_sum1'] = full_bike[['Station','Start_day', 'Start_hour','Diff']]\\\n",
    ".groupby(['Station','Start_day', 'Start_hour'])\\\n",
    ".sum().groupby(level=0).cumsum().reset_index()['Diff']"
   ]
  },
  {
   "cell_type": "code",
   "execution_count": 87,
   "id": "00cb8534-c41c-4de3-9dfc-fe812ebed7bc",
   "metadata": {},
   "outputs": [],
   "source": [
    "## cumulative sum validation\n",
    "station_num = full_bike.loc[0,'Station']\n",
    "cumu_sum = 0\n",
    "zero_counter = 0\n",
    "cap_counter = 0\n",
    "for i in range(0,len(full_bike)):\n",
    "    # Check to see if the station number has changed\n",
    "    if full_bike.loc[i,'Station'] != station_num:\n",
    "        # If it has, reset the sum to the new station\n",
    "        station_num = full_bike.loc[i,'Station']\n",
    "        cumu_sum = 0\n",
    "    # If the cumu sum has reached max capacity\n",
    "    if cumu_sum + full_bike.loc[i, 'Diff'] >= full_bike.loc[i,'Capacity']:\n",
    "        full_bike.at[i,'cumu_sum2'] = full_bike.loc[i,'Capacity']\n",
    "        cumu_sum = full_bike.loc[i,'Capacity']\n",
    "        cap_counter +=1\n",
    "    # If the cumu sum has reached minimum capacity\n",
    "    elif cumu_sum + full_bike.loc[i, 'Diff'] < 0:\n",
    "        full_bike.at[i,'cumu_sum2'] = 0\n",
    "        cumu_sum = 0\n",
    "        zero_counter += 1\n",
    "    else:\n",
    "        # Add to the cumulative sum and add the data point to the table\n",
    "        cumu_sum += full_bike.loc[i, 'Diff'] \n",
    "        full_bike.at[i,'cumu_sum2'] = cumu_sum"
   ]
  },
  {
   "cell_type": "code",
   "execution_count": 96,
   "id": "25119824-e376-43d6-9048-399beec67869",
   "metadata": {},
   "outputs": [
    {
     "name": "stdout",
     "output_type": "stream",
     "text": [
      "Count restricted cum sum < 0: 14243\n",
      "Count restricted cum sum > capacity: 32768\n",
      "Proprotion of bikes affected by restriction: 0.026321565307559913\n"
     ]
    }
   ],
   "source": [
    "print(\"Count restricted cum sum < 0: {}\".format(zero_counter))\n",
    "print(\"Count restricted cum sum > capacity: {}\".format(cap_counter))\n",
    "print(\"Proprotion of bikes affected by restriction: {}\".format((zero_counter + cap_counter)/full_bike.shape[0]))"
   ]
  },
  {
   "cell_type": "code",
   "execution_count": 90,
   "id": "b409ff11-faf8-46d9-b5e6-f41e7ad58308",
   "metadata": {},
   "outputs": [
    {
     "name": "stdout",
     "output_type": "stream",
     "text": [
      "Count of raw sum > capacity: 931478\n",
      "Count of raw sum < 0: 0\n"
     ]
    }
   ],
   "source": [
    "print(\"Count of raw sum > capacity: {}\".format(full_bike[abs(full_bike['cumu_sum1']) > full_bike['Capacity']].shape[0]))\n",
    "print(\"Count of raw sum < 0: {}\".format(full_bike[abs(full_bike['cumu_sum1']) < 0].shape[0]))"
   ]
  },
  {
   "cell_type": "code",
   "execution_count": 99,
   "id": "3112e140",
   "metadata": {},
   "outputs": [
    {
     "data": {
      "text/html": [
       "<div>\n",
       "<style scoped>\n",
       "    .dataframe tbody tr th:only-of-type {\n",
       "        vertical-align: middle;\n",
       "    }\n",
       "\n",
       "    .dataframe tbody tr th {\n",
       "        vertical-align: top;\n",
       "    }\n",
       "\n",
       "    .dataframe thead th {\n",
       "        text-align: right;\n",
       "    }\n",
       "</style>\n",
       "<table border=\"1\" class=\"dataframe\">\n",
       "  <thead>\n",
       "    <tr style=\"text-align: right;\">\n",
       "      <th></th>\n",
       "      <th>Start_day</th>\n",
       "      <th>Start_hour</th>\n",
       "      <th>Station</th>\n",
       "      <th>Arrivals</th>\n",
       "      <th>Departures</th>\n",
       "      <th>Diff</th>\n",
       "      <th>Start_station_number</th>\n",
       "      <th>Start_station</th>\n",
       "      <th>Latitude</th>\n",
       "      <th>Longitude</th>\n",
       "      <th>Name</th>\n",
       "      <th>Capacity</th>\n",
       "      <th>Region_name</th>\n",
       "      <th>cumu_sum1</th>\n",
       "      <th>cumu_sum2</th>\n",
       "    </tr>\n",
       "  </thead>\n",
       "  <tbody>\n",
       "    <tr>\n",
       "      <th>0</th>\n",
       "      <td>2019-11-26</td>\n",
       "      <td>9</td>\n",
       "      <td>0</td>\n",
       "      <td>2.0</td>\n",
       "      <td>0.0</td>\n",
       "      <td>2.0</td>\n",
       "      <td>0</td>\n",
       "      <td>22nd &amp; H St NW</td>\n",
       "      <td>38.898925</td>\n",
       "      <td>-77.048852</td>\n",
       "      <td>22nd &amp; H St NW</td>\n",
       "      <td>17.0</td>\n",
       "      <td>Washington, DC</td>\n",
       "      <td>2.0</td>\n",
       "      <td>2.0</td>\n",
       "    </tr>\n",
       "    <tr>\n",
       "      <th>1</th>\n",
       "      <td>2019-11-27</td>\n",
       "      <td>9</td>\n",
       "      <td>0</td>\n",
       "      <td>1.0</td>\n",
       "      <td>0.0</td>\n",
       "      <td>1.0</td>\n",
       "      <td>0</td>\n",
       "      <td>22nd &amp; H St NW</td>\n",
       "      <td>38.898925</td>\n",
       "      <td>-77.048852</td>\n",
       "      <td>22nd &amp; H St NW</td>\n",
       "      <td>17.0</td>\n",
       "      <td>Washington, DC</td>\n",
       "      <td>3.0</td>\n",
       "      <td>3.0</td>\n",
       "    </tr>\n",
       "    <tr>\n",
       "      <th>2</th>\n",
       "      <td>2019-11-28</td>\n",
       "      <td>16</td>\n",
       "      <td>0</td>\n",
       "      <td>1.0</td>\n",
       "      <td>0.0</td>\n",
       "      <td>1.0</td>\n",
       "      <td>0</td>\n",
       "      <td>22nd &amp; H St NW</td>\n",
       "      <td>38.898925</td>\n",
       "      <td>-77.048852</td>\n",
       "      <td>22nd &amp; H St NW</td>\n",
       "      <td>17.0</td>\n",
       "      <td>Washington, DC</td>\n",
       "      <td>4.0</td>\n",
       "      <td>4.0</td>\n",
       "    </tr>\n",
       "    <tr>\n",
       "      <th>3</th>\n",
       "      <td>2019-11-30</td>\n",
       "      <td>23</td>\n",
       "      <td>0</td>\n",
       "      <td>1.0</td>\n",
       "      <td>0.0</td>\n",
       "      <td>1.0</td>\n",
       "      <td>0</td>\n",
       "      <td>22nd &amp; H St NW</td>\n",
       "      <td>38.898925</td>\n",
       "      <td>-77.048852</td>\n",
       "      <td>22nd &amp; H St NW</td>\n",
       "      <td>17.0</td>\n",
       "      <td>Washington, DC</td>\n",
       "      <td>5.0</td>\n",
       "      <td>5.0</td>\n",
       "    </tr>\n",
       "    <tr>\n",
       "      <th>4</th>\n",
       "      <td>2019-12-01</td>\n",
       "      <td>16</td>\n",
       "      <td>0</td>\n",
       "      <td>0.0</td>\n",
       "      <td>1.0</td>\n",
       "      <td>-1.0</td>\n",
       "      <td>0</td>\n",
       "      <td>22nd &amp; H St NW</td>\n",
       "      <td>38.898925</td>\n",
       "      <td>-77.048852</td>\n",
       "      <td>22nd &amp; H St NW</td>\n",
       "      <td>17.0</td>\n",
       "      <td>Washington, DC</td>\n",
       "      <td>4.0</td>\n",
       "      <td>4.0</td>\n",
       "    </tr>\n",
       "  </tbody>\n",
       "</table>\n",
       "</div>"
      ],
      "text/plain": [
       "    Start_day  Start_hour  Station  Arrivals  Departures  Diff  \\\n",
       "0  2019-11-26           9        0       2.0         0.0   2.0   \n",
       "1  2019-11-27           9        0       1.0         0.0   1.0   \n",
       "2  2019-11-28          16        0       1.0         0.0   1.0   \n",
       "3  2019-11-30          23        0       1.0         0.0   1.0   \n",
       "4  2019-12-01          16        0       0.0         1.0  -1.0   \n",
       "\n",
       "   Start_station_number   Start_station   Latitude  Longitude            Name  \\\n",
       "0                     0  22nd & H St NW  38.898925 -77.048852  22nd & H St NW   \n",
       "1                     0  22nd & H St NW  38.898925 -77.048852  22nd & H St NW   \n",
       "2                     0  22nd & H St NW  38.898925 -77.048852  22nd & H St NW   \n",
       "3                     0  22nd & H St NW  38.898925 -77.048852  22nd & H St NW   \n",
       "4                     0  22nd & H St NW  38.898925 -77.048852  22nd & H St NW   \n",
       "\n",
       "   Capacity     Region_name  cumu_sum1  cumu_sum2  \n",
       "0      17.0  Washington, DC        2.0        2.0  \n",
       "1      17.0  Washington, DC        3.0        3.0  \n",
       "2      17.0  Washington, DC        4.0        4.0  \n",
       "3      17.0  Washington, DC        5.0        5.0  \n",
       "4      17.0  Washington, DC        4.0        4.0  "
      ]
     },
     "execution_count": 99,
     "metadata": {},
     "output_type": "execute_result"
    }
   ],
   "source": [
    "full_bike.head()"
   ]
  },
  {
   "cell_type": "markdown",
   "id": "90c03ab3-96d3-4b2a-8c22-80603d18ad93",
   "metadata": {},
   "source": [
    "## explaining unusual behavior\n",
    "\n",
    "https://www.wnyc.org/story/285378-nine-percent-of-all-d-c-bike-share-bikes-are-at-washington-nationals-stadium-for-the-playoff-game/\n",
    "\n",
    "Bikeshare allows overflow capacity to a station during special events."
   ]
  },
  {
   "cell_type": "code",
   "execution_count": 100,
   "id": "2119dabe-5c2e-4f9c-8c69-e3ea37a4e5cd",
   "metadata": {},
   "outputs": [
    {
     "name": "stdout",
     "output_type": "stream",
     "text": [
      "Count of stations with a starting number > capacity: 177\n"
     ]
    }
   ],
   "source": [
    "num_bad_starting_points = full_bike[(full_bike['Start_day'] == dt.date(month = 12, year = 2018, day = 31))&(full_bike['Arrivals']>full_bike['Capacity'])].shape[0]\n",
    "print(\"Count of stations with a starting number > capacity: {}\".format(num_bad_starting_points))"
   ]
  },
  {
   "cell_type": "markdown",
   "id": "71fb4e3b-ed77-4625-8a05-cf2b09e2f294",
   "metadata": {},
   "source": [
    "## adding more data\n",
    "\n",
    "need to clean up variable names for the data"
   ]
  },
  {
   "cell_type": "code",
   "execution_count": 106,
   "id": "971adc60-d4ea-44d5-bc9b-596b504773db",
   "metadata": {
    "collapsed": true
   },
   "outputs": [
    {
     "ename": "KeyError",
     "evalue": "\"['cumu_sum1'] not found in axis\"",
     "output_type": "error",
     "traceback": [
      "\u001b[1;31m---------------------------------------------------------------------------\u001b[0m",
      "\u001b[1;31mKeyError\u001b[0m                                  Traceback (most recent call last)",
      "\u001b[1;32m<ipython-input-106-3dc48460fce6>\u001b[0m in \u001b[0;36m<module>\u001b[1;34m\u001b[0m\n\u001b[1;32m----> 1\u001b[1;33m \u001b[0mfull_bike\u001b[0m\u001b[1;33m.\u001b[0m\u001b[0mdrop\u001b[0m\u001b[1;33m(\u001b[0m\u001b[0mcolumns\u001b[0m \u001b[1;33m=\u001b[0m \u001b[1;33m[\u001b[0m\u001b[1;34m'cumu_sum1'\u001b[0m\u001b[1;33m]\u001b[0m\u001b[1;33m,\u001b[0m \u001b[0maxis\u001b[0m \u001b[1;33m=\u001b[0m \u001b[1;36m1\u001b[0m\u001b[1;33m,\u001b[0m \u001b[0minplace\u001b[0m \u001b[1;33m=\u001b[0m \u001b[1;32mTrue\u001b[0m\u001b[1;33m)\u001b[0m\u001b[1;33m\u001b[0m\u001b[1;33m\u001b[0m\u001b[0m\n\u001b[0m\u001b[0;32m      2\u001b[0m \u001b[0mfull_bike\u001b[0m\u001b[1;33m.\u001b[0m\u001b[0mrename\u001b[0m\u001b[1;33m(\u001b[0m\u001b[1;33m{\u001b[0m\u001b[1;34m'cumu_sum2'\u001b[0m\u001b[1;33m:\u001b[0m\u001b[1;34m'cumu_sum'\u001b[0m\u001b[1;33m}\u001b[0m\u001b[1;33m,\u001b[0m \u001b[0maxis\u001b[0m \u001b[1;33m=\u001b[0m \u001b[1;36m1\u001b[0m\u001b[1;33m,\u001b[0m \u001b[0minplace\u001b[0m \u001b[1;33m=\u001b[0m \u001b[1;32mTrue\u001b[0m\u001b[1;33m)\u001b[0m\u001b[1;33m\u001b[0m\u001b[1;33m\u001b[0m\u001b[0m\n\u001b[0;32m      3\u001b[0m \u001b[0mfull_bike\u001b[0m\u001b[1;33m[\u001b[0m\u001b[1;34m'percent_full'\u001b[0m\u001b[1;33m]\u001b[0m \u001b[1;33m=\u001b[0m \u001b[0mfull_bike\u001b[0m\u001b[1;33m[\u001b[0m\u001b[1;34m'cumu_sum'\u001b[0m\u001b[1;33m]\u001b[0m\u001b[1;33m/\u001b[0m\u001b[0mfull_bike\u001b[0m\u001b[1;33m[\u001b[0m\u001b[1;34m'Capacity'\u001b[0m\u001b[1;33m]\u001b[0m\u001b[1;33m\u001b[0m\u001b[1;33m\u001b[0m\u001b[0m\n\u001b[0;32m      4\u001b[0m \u001b[0mfull_bike\u001b[0m\u001b[1;33m[\u001b[0m\u001b[1;34m'weekday_num'\u001b[0m\u001b[1;33m]\u001b[0m \u001b[1;33m=\u001b[0m \u001b[0mpd\u001b[0m\u001b[1;33m.\u001b[0m\u001b[0mto_datetime\u001b[0m\u001b[1;33m(\u001b[0m\u001b[0mfull_bike\u001b[0m\u001b[1;33m[\u001b[0m\u001b[1;34m'Start_day'\u001b[0m\u001b[1;33m]\u001b[0m\u001b[1;33m,\u001b[0m \u001b[0merrors\u001b[0m \u001b[1;33m=\u001b[0m \u001b[1;34m'coerce'\u001b[0m\u001b[1;33m)\u001b[0m\u001b[1;33m.\u001b[0m\u001b[0mdt\u001b[0m\u001b[1;33m.\u001b[0m\u001b[0mweekday\u001b[0m\u001b[1;33m\u001b[0m\u001b[1;33m\u001b[0m\u001b[0m\n\u001b[0;32m      5\u001b[0m \u001b[0mfull_bike\u001b[0m\u001b[1;33m.\u001b[0m\u001b[0mhead\u001b[0m\u001b[1;33m(\u001b[0m\u001b[1;33m)\u001b[0m\u001b[1;33m\u001b[0m\u001b[1;33m\u001b[0m\u001b[0m\n",
      "\u001b[1;32m~\\anaconda3\\lib\\site-packages\\pandas\\core\\frame.py\u001b[0m in \u001b[0;36mdrop\u001b[1;34m(self, labels, axis, index, columns, level, inplace, errors)\u001b[0m\n\u001b[0;32m   4306\u001b[0m                 \u001b[0mweight\u001b[0m  \u001b[1;36m1.0\u001b[0m     \u001b[1;36m0.8\u001b[0m\u001b[1;33m\u001b[0m\u001b[1;33m\u001b[0m\u001b[0m\n\u001b[0;32m   4307\u001b[0m         \"\"\"\n\u001b[1;32m-> 4308\u001b[1;33m         return super().drop(\n\u001b[0m\u001b[0;32m   4309\u001b[0m             \u001b[0mlabels\u001b[0m\u001b[1;33m=\u001b[0m\u001b[0mlabels\u001b[0m\u001b[1;33m,\u001b[0m\u001b[1;33m\u001b[0m\u001b[1;33m\u001b[0m\u001b[0m\n\u001b[0;32m   4310\u001b[0m             \u001b[0maxis\u001b[0m\u001b[1;33m=\u001b[0m\u001b[0maxis\u001b[0m\u001b[1;33m,\u001b[0m\u001b[1;33m\u001b[0m\u001b[1;33m\u001b[0m\u001b[0m\n",
      "\u001b[1;32m~\\anaconda3\\lib\\site-packages\\pandas\\core\\generic.py\u001b[0m in \u001b[0;36mdrop\u001b[1;34m(self, labels, axis, index, columns, level, inplace, errors)\u001b[0m\n\u001b[0;32m   4151\u001b[0m         \u001b[1;32mfor\u001b[0m \u001b[0maxis\u001b[0m\u001b[1;33m,\u001b[0m \u001b[0mlabels\u001b[0m \u001b[1;32min\u001b[0m \u001b[0maxes\u001b[0m\u001b[1;33m.\u001b[0m\u001b[0mitems\u001b[0m\u001b[1;33m(\u001b[0m\u001b[1;33m)\u001b[0m\u001b[1;33m:\u001b[0m\u001b[1;33m\u001b[0m\u001b[1;33m\u001b[0m\u001b[0m\n\u001b[0;32m   4152\u001b[0m             \u001b[1;32mif\u001b[0m \u001b[0mlabels\u001b[0m \u001b[1;32mis\u001b[0m \u001b[1;32mnot\u001b[0m \u001b[1;32mNone\u001b[0m\u001b[1;33m:\u001b[0m\u001b[1;33m\u001b[0m\u001b[1;33m\u001b[0m\u001b[0m\n\u001b[1;32m-> 4153\u001b[1;33m                 \u001b[0mobj\u001b[0m \u001b[1;33m=\u001b[0m \u001b[0mobj\u001b[0m\u001b[1;33m.\u001b[0m\u001b[0m_drop_axis\u001b[0m\u001b[1;33m(\u001b[0m\u001b[0mlabels\u001b[0m\u001b[1;33m,\u001b[0m \u001b[0maxis\u001b[0m\u001b[1;33m,\u001b[0m \u001b[0mlevel\u001b[0m\u001b[1;33m=\u001b[0m\u001b[0mlevel\u001b[0m\u001b[1;33m,\u001b[0m \u001b[0merrors\u001b[0m\u001b[1;33m=\u001b[0m\u001b[0merrors\u001b[0m\u001b[1;33m)\u001b[0m\u001b[1;33m\u001b[0m\u001b[1;33m\u001b[0m\u001b[0m\n\u001b[0m\u001b[0;32m   4154\u001b[0m \u001b[1;33m\u001b[0m\u001b[0m\n\u001b[0;32m   4155\u001b[0m         \u001b[1;32mif\u001b[0m \u001b[0minplace\u001b[0m\u001b[1;33m:\u001b[0m\u001b[1;33m\u001b[0m\u001b[1;33m\u001b[0m\u001b[0m\n",
      "\u001b[1;32m~\\anaconda3\\lib\\site-packages\\pandas\\core\\generic.py\u001b[0m in \u001b[0;36m_drop_axis\u001b[1;34m(self, labels, axis, level, errors)\u001b[0m\n\u001b[0;32m   4186\u001b[0m                 \u001b[0mnew_axis\u001b[0m \u001b[1;33m=\u001b[0m \u001b[0maxis\u001b[0m\u001b[1;33m.\u001b[0m\u001b[0mdrop\u001b[0m\u001b[1;33m(\u001b[0m\u001b[0mlabels\u001b[0m\u001b[1;33m,\u001b[0m \u001b[0mlevel\u001b[0m\u001b[1;33m=\u001b[0m\u001b[0mlevel\u001b[0m\u001b[1;33m,\u001b[0m \u001b[0merrors\u001b[0m\u001b[1;33m=\u001b[0m\u001b[0merrors\u001b[0m\u001b[1;33m)\u001b[0m\u001b[1;33m\u001b[0m\u001b[1;33m\u001b[0m\u001b[0m\n\u001b[0;32m   4187\u001b[0m             \u001b[1;32melse\u001b[0m\u001b[1;33m:\u001b[0m\u001b[1;33m\u001b[0m\u001b[1;33m\u001b[0m\u001b[0m\n\u001b[1;32m-> 4188\u001b[1;33m                 \u001b[0mnew_axis\u001b[0m \u001b[1;33m=\u001b[0m \u001b[0maxis\u001b[0m\u001b[1;33m.\u001b[0m\u001b[0mdrop\u001b[0m\u001b[1;33m(\u001b[0m\u001b[0mlabels\u001b[0m\u001b[1;33m,\u001b[0m \u001b[0merrors\u001b[0m\u001b[1;33m=\u001b[0m\u001b[0merrors\u001b[0m\u001b[1;33m)\u001b[0m\u001b[1;33m\u001b[0m\u001b[1;33m\u001b[0m\u001b[0m\n\u001b[0m\u001b[0;32m   4189\u001b[0m             \u001b[0mresult\u001b[0m \u001b[1;33m=\u001b[0m \u001b[0mself\u001b[0m\u001b[1;33m.\u001b[0m\u001b[0mreindex\u001b[0m\u001b[1;33m(\u001b[0m\u001b[1;33m**\u001b[0m\u001b[1;33m{\u001b[0m\u001b[0maxis_name\u001b[0m\u001b[1;33m:\u001b[0m \u001b[0mnew_axis\u001b[0m\u001b[1;33m}\u001b[0m\u001b[1;33m)\u001b[0m\u001b[1;33m\u001b[0m\u001b[1;33m\u001b[0m\u001b[0m\n\u001b[0;32m   4190\u001b[0m \u001b[1;33m\u001b[0m\u001b[0m\n",
      "\u001b[1;32m~\\anaconda3\\lib\\site-packages\\pandas\\core\\indexes\\base.py\u001b[0m in \u001b[0;36mdrop\u001b[1;34m(self, labels, errors)\u001b[0m\n\u001b[0;32m   5589\u001b[0m         \u001b[1;32mif\u001b[0m \u001b[0mmask\u001b[0m\u001b[1;33m.\u001b[0m\u001b[0many\u001b[0m\u001b[1;33m(\u001b[0m\u001b[1;33m)\u001b[0m\u001b[1;33m:\u001b[0m\u001b[1;33m\u001b[0m\u001b[1;33m\u001b[0m\u001b[0m\n\u001b[0;32m   5590\u001b[0m             \u001b[1;32mif\u001b[0m \u001b[0merrors\u001b[0m \u001b[1;33m!=\u001b[0m \u001b[1;34m\"ignore\"\u001b[0m\u001b[1;33m:\u001b[0m\u001b[1;33m\u001b[0m\u001b[1;33m\u001b[0m\u001b[0m\n\u001b[1;32m-> 5591\u001b[1;33m                 \u001b[1;32mraise\u001b[0m \u001b[0mKeyError\u001b[0m\u001b[1;33m(\u001b[0m\u001b[1;34mf\"{labels[mask]} not found in axis\"\u001b[0m\u001b[1;33m)\u001b[0m\u001b[1;33m\u001b[0m\u001b[1;33m\u001b[0m\u001b[0m\n\u001b[0m\u001b[0;32m   5592\u001b[0m             \u001b[0mindexer\u001b[0m \u001b[1;33m=\u001b[0m \u001b[0mindexer\u001b[0m\u001b[1;33m[\u001b[0m\u001b[1;33m~\u001b[0m\u001b[0mmask\u001b[0m\u001b[1;33m]\u001b[0m\u001b[1;33m\u001b[0m\u001b[1;33m\u001b[0m\u001b[0m\n\u001b[0;32m   5593\u001b[0m         \u001b[1;32mreturn\u001b[0m \u001b[0mself\u001b[0m\u001b[1;33m.\u001b[0m\u001b[0mdelete\u001b[0m\u001b[1;33m(\u001b[0m\u001b[0mindexer\u001b[0m\u001b[1;33m)\u001b[0m\u001b[1;33m\u001b[0m\u001b[1;33m\u001b[0m\u001b[0m\n",
      "\u001b[1;31mKeyError\u001b[0m: \"['cumu_sum1'] not found in axis\""
     ]
    }
   ],
   "source": [
    "full_bike.drop(columns = ['cumu_sum1'], axis = 1, inplace = True)\n",
    "full_bike.rename({'cumu_sum2':'cumu_sum'}, axis = 1, inplace = True)\n",
    "full_bike['percent_full'] = full_bike['cumu_sum']/full_bike['Capacity']\n",
    "full_bike['weekday_num'] = pd.to_datetime(full_bike['Start_day'], errors = 'coerce').dt.weekday\n",
    "full_bike.head()"
   ]
  },
  {
   "cell_type": "code",
   "execution_count": 107,
   "id": "3ff69430",
   "metadata": {},
   "outputs": [
    {
     "data": {
      "text/html": [
       "<div>\n",
       "<style scoped>\n",
       "    .dataframe tbody tr th:only-of-type {\n",
       "        vertical-align: middle;\n",
       "    }\n",
       "\n",
       "    .dataframe tbody tr th {\n",
       "        vertical-align: top;\n",
       "    }\n",
       "\n",
       "    .dataframe thead th {\n",
       "        text-align: right;\n",
       "    }\n",
       "</style>\n",
       "<table border=\"1\" class=\"dataframe\">\n",
       "  <thead>\n",
       "    <tr style=\"text-align: right;\">\n",
       "      <th></th>\n",
       "      <th>Start_day</th>\n",
       "      <th>Start_hour</th>\n",
       "      <th>Station</th>\n",
       "      <th>Arrivals</th>\n",
       "      <th>Departures</th>\n",
       "      <th>Diff</th>\n",
       "      <th>Start_station_number</th>\n",
       "      <th>Start_station</th>\n",
       "      <th>Latitude</th>\n",
       "      <th>Longitude</th>\n",
       "      <th>Name</th>\n",
       "      <th>Capacity</th>\n",
       "      <th>Region_name</th>\n",
       "      <th>cumu_sum</th>\n",
       "      <th>percent_full</th>\n",
       "      <th>weekday_num</th>\n",
       "    </tr>\n",
       "  </thead>\n",
       "  <tbody>\n",
       "    <tr>\n",
       "      <th>0</th>\n",
       "      <td>2019-11-26</td>\n",
       "      <td>9</td>\n",
       "      <td>0</td>\n",
       "      <td>2.0</td>\n",
       "      <td>0.0</td>\n",
       "      <td>2.0</td>\n",
       "      <td>0</td>\n",
       "      <td>22nd &amp; H St NW</td>\n",
       "      <td>38.898925</td>\n",
       "      <td>-77.048852</td>\n",
       "      <td>22nd &amp; H St NW</td>\n",
       "      <td>17.0</td>\n",
       "      <td>Washington, DC</td>\n",
       "      <td>2.0</td>\n",
       "      <td>0.117647</td>\n",
       "      <td>1</td>\n",
       "    </tr>\n",
       "    <tr>\n",
       "      <th>1</th>\n",
       "      <td>2019-11-27</td>\n",
       "      <td>9</td>\n",
       "      <td>0</td>\n",
       "      <td>1.0</td>\n",
       "      <td>0.0</td>\n",
       "      <td>1.0</td>\n",
       "      <td>0</td>\n",
       "      <td>22nd &amp; H St NW</td>\n",
       "      <td>38.898925</td>\n",
       "      <td>-77.048852</td>\n",
       "      <td>22nd &amp; H St NW</td>\n",
       "      <td>17.0</td>\n",
       "      <td>Washington, DC</td>\n",
       "      <td>3.0</td>\n",
       "      <td>0.176471</td>\n",
       "      <td>2</td>\n",
       "    </tr>\n",
       "    <tr>\n",
       "      <th>2</th>\n",
       "      <td>2019-11-28</td>\n",
       "      <td>16</td>\n",
       "      <td>0</td>\n",
       "      <td>1.0</td>\n",
       "      <td>0.0</td>\n",
       "      <td>1.0</td>\n",
       "      <td>0</td>\n",
       "      <td>22nd &amp; H St NW</td>\n",
       "      <td>38.898925</td>\n",
       "      <td>-77.048852</td>\n",
       "      <td>22nd &amp; H St NW</td>\n",
       "      <td>17.0</td>\n",
       "      <td>Washington, DC</td>\n",
       "      <td>4.0</td>\n",
       "      <td>0.235294</td>\n",
       "      <td>3</td>\n",
       "    </tr>\n",
       "    <tr>\n",
       "      <th>3</th>\n",
       "      <td>2019-11-30</td>\n",
       "      <td>23</td>\n",
       "      <td>0</td>\n",
       "      <td>1.0</td>\n",
       "      <td>0.0</td>\n",
       "      <td>1.0</td>\n",
       "      <td>0</td>\n",
       "      <td>22nd &amp; H St NW</td>\n",
       "      <td>38.898925</td>\n",
       "      <td>-77.048852</td>\n",
       "      <td>22nd &amp; H St NW</td>\n",
       "      <td>17.0</td>\n",
       "      <td>Washington, DC</td>\n",
       "      <td>5.0</td>\n",
       "      <td>0.294118</td>\n",
       "      <td>5</td>\n",
       "    </tr>\n",
       "    <tr>\n",
       "      <th>4</th>\n",
       "      <td>2019-12-01</td>\n",
       "      <td>16</td>\n",
       "      <td>0</td>\n",
       "      <td>0.0</td>\n",
       "      <td>1.0</td>\n",
       "      <td>-1.0</td>\n",
       "      <td>0</td>\n",
       "      <td>22nd &amp; H St NW</td>\n",
       "      <td>38.898925</td>\n",
       "      <td>-77.048852</td>\n",
       "      <td>22nd &amp; H St NW</td>\n",
       "      <td>17.0</td>\n",
       "      <td>Washington, DC</td>\n",
       "      <td>4.0</td>\n",
       "      <td>0.235294</td>\n",
       "      <td>6</td>\n",
       "    </tr>\n",
       "  </tbody>\n",
       "</table>\n",
       "</div>"
      ],
      "text/plain": [
       "    Start_day  Start_hour  Station  Arrivals  Departures  Diff  \\\n",
       "0  2019-11-26           9        0       2.0         0.0   2.0   \n",
       "1  2019-11-27           9        0       1.0         0.0   1.0   \n",
       "2  2019-11-28          16        0       1.0         0.0   1.0   \n",
       "3  2019-11-30          23        0       1.0         0.0   1.0   \n",
       "4  2019-12-01          16        0       0.0         1.0  -1.0   \n",
       "\n",
       "   Start_station_number   Start_station   Latitude  Longitude            Name  \\\n",
       "0                     0  22nd & H St NW  38.898925 -77.048852  22nd & H St NW   \n",
       "1                     0  22nd & H St NW  38.898925 -77.048852  22nd & H St NW   \n",
       "2                     0  22nd & H St NW  38.898925 -77.048852  22nd & H St NW   \n",
       "3                     0  22nd & H St NW  38.898925 -77.048852  22nd & H St NW   \n",
       "4                     0  22nd & H St NW  38.898925 -77.048852  22nd & H St NW   \n",
       "\n",
       "   Capacity     Region_name  cumu_sum  percent_full  weekday_num  \n",
       "0      17.0  Washington, DC       2.0      0.117647            1  \n",
       "1      17.0  Washington, DC       3.0      0.176471            2  \n",
       "2      17.0  Washington, DC       4.0      0.235294            3  \n",
       "3      17.0  Washington, DC       5.0      0.294118            5  \n",
       "4      17.0  Washington, DC       4.0      0.235294            6  "
      ]
     },
     "execution_count": 107,
     "metadata": {},
     "output_type": "execute_result"
    }
   ],
   "source": [
    "full_bike.head()"
   ]
  },
  {
   "cell_type": "code",
   "execution_count": 114,
   "id": "af40636d",
   "metadata": {},
   "outputs": [],
   "source": [
    "# commands are identical\n",
    "#np.sum(np.where((full_bike['weekday_num'] > 4), 1, 0) == full_bike['weekday_num'].apply(lambda x: 1 if x > 4 else 0).values) == full_bike.shape[0]\n",
    "full_bike['weekend_flag'] = full_bike['weekday_num'].apply(lambda x: 1 if x > 4 else 0).values"
   ]
  },
  {
   "cell_type": "code",
   "execution_count": 117,
   "id": "90de0582",
   "metadata": {
    "scrolled": false
   },
   "outputs": [
    {
     "data": {
      "text/html": [
       "<div>\n",
       "<style scoped>\n",
       "    .dataframe tbody tr th:only-of-type {\n",
       "        vertical-align: middle;\n",
       "    }\n",
       "\n",
       "    .dataframe tbody tr th {\n",
       "        vertical-align: top;\n",
       "    }\n",
       "\n",
       "    .dataframe thead th {\n",
       "        text-align: right;\n",
       "    }\n",
       "</style>\n",
       "<table border=\"1\" class=\"dataframe\">\n",
       "  <thead>\n",
       "    <tr style=\"text-align: right;\">\n",
       "      <th></th>\n",
       "      <th>Date</th>\n",
       "      <th>TAVG</th>\n",
       "      <th>TMAX</th>\n",
       "      <th>TMIN</th>\n",
       "      <th>PRCP</th>\n",
       "      <th>SNOW</th>\n",
       "    </tr>\n",
       "  </thead>\n",
       "  <tbody>\n",
       "    <tr>\n",
       "      <th>0</th>\n",
       "      <td>2018-12-31</td>\n",
       "      <td>44</td>\n",
       "      <td>51</td>\n",
       "      <td>39</td>\n",
       "      <td>0.48</td>\n",
       "      <td>0.0</td>\n",
       "    </tr>\n",
       "    <tr>\n",
       "      <th>1</th>\n",
       "      <td>2019-01-01</td>\n",
       "      <td>56</td>\n",
       "      <td>64</td>\n",
       "      <td>44</td>\n",
       "      <td>0.00</td>\n",
       "      <td>0.0</td>\n",
       "    </tr>\n",
       "    <tr>\n",
       "      <th>2</th>\n",
       "      <td>2019-01-02</td>\n",
       "      <td>46</td>\n",
       "      <td>48</td>\n",
       "      <td>42</td>\n",
       "      <td>0.00</td>\n",
       "      <td>0.0</td>\n",
       "    </tr>\n",
       "    <tr>\n",
       "      <th>3</th>\n",
       "      <td>2019-01-03</td>\n",
       "      <td>47</td>\n",
       "      <td>51</td>\n",
       "      <td>40</td>\n",
       "      <td>0.00</td>\n",
       "      <td>0.0</td>\n",
       "    </tr>\n",
       "    <tr>\n",
       "      <th>4</th>\n",
       "      <td>2019-01-04</td>\n",
       "      <td>43</td>\n",
       "      <td>50</td>\n",
       "      <td>36</td>\n",
       "      <td>0.04</td>\n",
       "      <td>0.0</td>\n",
       "    </tr>\n",
       "  </tbody>\n",
       "</table>\n",
       "</div>"
      ],
      "text/plain": [
       "        Date  TAVG  TMAX  TMIN  PRCP  SNOW\n",
       "0 2018-12-31    44    51    39  0.48   0.0\n",
       "1 2019-01-01    56    64    44  0.00   0.0\n",
       "2 2019-01-02    46    48    42  0.00   0.0\n",
       "3 2019-01-03    47    51    40  0.00   0.0\n",
       "4 2019-01-04    43    50    36  0.04   0.0"
      ]
     },
     "execution_count": 117,
     "metadata": {},
     "output_type": "execute_result"
    }
   ],
   "source": [
    "## adding weather data - drop last column because redundant\n",
    "weather = pd.read_csv('weather.csv', parse_dates = [\"Date\"]).iloc[:,0:-1]\n",
    "weather.columns = [col.split(\" \")[0] for col in weather.columns]\n",
    "weather.head()"
   ]
  },
  {
   "cell_type": "code",
   "execution_count": 118,
   "id": "f924d63d",
   "metadata": {},
   "outputs": [
    {
     "data": {
      "text/plain": [
       "Date    datetime64[ns]\n",
       "TAVG             int64\n",
       "TMAX             int64\n",
       "TMIN             int64\n",
       "PRCP           float64\n",
       "SNOW           float64\n",
       "dtype: object"
      ]
     },
     "execution_count": 118,
     "metadata": {},
     "output_type": "execute_result"
    }
   ],
   "source": [
    "weather.dtypes"
   ]
  },
  {
   "cell_type": "code",
   "execution_count": 119,
   "id": "450f0645-2b70-45b8-8b46-e697f82efb09",
   "metadata": {},
   "outputs": [
    {
     "data": {
      "text/html": [
       "<div>\n",
       "<style scoped>\n",
       "    .dataframe tbody tr th:only-of-type {\n",
       "        vertical-align: middle;\n",
       "    }\n",
       "\n",
       "    .dataframe tbody tr th {\n",
       "        vertical-align: top;\n",
       "    }\n",
       "\n",
       "    .dataframe thead th {\n",
       "        text-align: right;\n",
       "    }\n",
       "</style>\n",
       "<table border=\"1\" class=\"dataframe\">\n",
       "  <thead>\n",
       "    <tr style=\"text-align: right;\">\n",
       "      <th></th>\n",
       "      <th>Start_day</th>\n",
       "      <th>Start_hour</th>\n",
       "      <th>Station</th>\n",
       "      <th>Arrivals</th>\n",
       "      <th>Departures</th>\n",
       "      <th>Diff</th>\n",
       "      <th>Start_station_number</th>\n",
       "      <th>Start_station</th>\n",
       "      <th>Latitude</th>\n",
       "      <th>Longitude</th>\n",
       "      <th>...</th>\n",
       "      <th>cumu_sum</th>\n",
       "      <th>percent_full</th>\n",
       "      <th>weekday_num</th>\n",
       "      <th>weekend_flag</th>\n",
       "      <th>Date</th>\n",
       "      <th>TAVG</th>\n",
       "      <th>TMAX</th>\n",
       "      <th>TMIN</th>\n",
       "      <th>PRCP</th>\n",
       "      <th>SNOW</th>\n",
       "    </tr>\n",
       "  </thead>\n",
       "  <tbody>\n",
       "    <tr>\n",
       "      <th>0</th>\n",
       "      <td>2019-11-26</td>\n",
       "      <td>9</td>\n",
       "      <td>0</td>\n",
       "      <td>2.0</td>\n",
       "      <td>0.0</td>\n",
       "      <td>2.0</td>\n",
       "      <td>0</td>\n",
       "      <td>22nd &amp; H St NW</td>\n",
       "      <td>38.898925</td>\n",
       "      <td>-77.048852</td>\n",
       "      <td>...</td>\n",
       "      <td>2.0</td>\n",
       "      <td>0.117647</td>\n",
       "      <td>1</td>\n",
       "      <td>0</td>\n",
       "      <td>2019-11-26</td>\n",
       "      <td>48</td>\n",
       "      <td>62</td>\n",
       "      <td>38</td>\n",
       "      <td>0.00</td>\n",
       "      <td>0.0</td>\n",
       "    </tr>\n",
       "    <tr>\n",
       "      <th>1</th>\n",
       "      <td>2019-11-27</td>\n",
       "      <td>9</td>\n",
       "      <td>0</td>\n",
       "      <td>1.0</td>\n",
       "      <td>0.0</td>\n",
       "      <td>1.0</td>\n",
       "      <td>0</td>\n",
       "      <td>22nd &amp; H St NW</td>\n",
       "      <td>38.898925</td>\n",
       "      <td>-77.048852</td>\n",
       "      <td>...</td>\n",
       "      <td>3.0</td>\n",
       "      <td>0.176471</td>\n",
       "      <td>2</td>\n",
       "      <td>0</td>\n",
       "      <td>2019-11-27</td>\n",
       "      <td>51</td>\n",
       "      <td>58</td>\n",
       "      <td>44</td>\n",
       "      <td>0.01</td>\n",
       "      <td>0.0</td>\n",
       "    </tr>\n",
       "    <tr>\n",
       "      <th>2</th>\n",
       "      <td>2019-11-28</td>\n",
       "      <td>16</td>\n",
       "      <td>0</td>\n",
       "      <td>1.0</td>\n",
       "      <td>0.0</td>\n",
       "      <td>1.0</td>\n",
       "      <td>0</td>\n",
       "      <td>22nd &amp; H St NW</td>\n",
       "      <td>38.898925</td>\n",
       "      <td>-77.048852</td>\n",
       "      <td>...</td>\n",
       "      <td>4.0</td>\n",
       "      <td>0.235294</td>\n",
       "      <td>3</td>\n",
       "      <td>0</td>\n",
       "      <td>2019-11-28</td>\n",
       "      <td>50</td>\n",
       "      <td>54</td>\n",
       "      <td>43</td>\n",
       "      <td>0.00</td>\n",
       "      <td>0.0</td>\n",
       "    </tr>\n",
       "    <tr>\n",
       "      <th>3</th>\n",
       "      <td>2019-11-30</td>\n",
       "      <td>23</td>\n",
       "      <td>0</td>\n",
       "      <td>1.0</td>\n",
       "      <td>0.0</td>\n",
       "      <td>1.0</td>\n",
       "      <td>0</td>\n",
       "      <td>22nd &amp; H St NW</td>\n",
       "      <td>38.898925</td>\n",
       "      <td>-77.048852</td>\n",
       "      <td>...</td>\n",
       "      <td>5.0</td>\n",
       "      <td>0.294118</td>\n",
       "      <td>5</td>\n",
       "      <td>1</td>\n",
       "      <td>2019-11-30</td>\n",
       "      <td>43</td>\n",
       "      <td>46</td>\n",
       "      <td>41</td>\n",
       "      <td>0.00</td>\n",
       "      <td>0.0</td>\n",
       "    </tr>\n",
       "    <tr>\n",
       "      <th>4</th>\n",
       "      <td>2019-12-01</td>\n",
       "      <td>16</td>\n",
       "      <td>0</td>\n",
       "      <td>0.0</td>\n",
       "      <td>1.0</td>\n",
       "      <td>-1.0</td>\n",
       "      <td>0</td>\n",
       "      <td>22nd &amp; H St NW</td>\n",
       "      <td>38.898925</td>\n",
       "      <td>-77.048852</td>\n",
       "      <td>...</td>\n",
       "      <td>4.0</td>\n",
       "      <td>0.235294</td>\n",
       "      <td>6</td>\n",
       "      <td>1</td>\n",
       "      <td>2019-12-01</td>\n",
       "      <td>43</td>\n",
       "      <td>46</td>\n",
       "      <td>40</td>\n",
       "      <td>0.50</td>\n",
       "      <td>0.0</td>\n",
       "    </tr>\n",
       "  </tbody>\n",
       "</table>\n",
       "<p>5 rows × 23 columns</p>\n",
       "</div>"
      ],
      "text/plain": [
       "   Start_day  Start_hour  Station  Arrivals  Departures  Diff  \\\n",
       "0 2019-11-26           9        0       2.0         0.0   2.0   \n",
       "1 2019-11-27           9        0       1.0         0.0   1.0   \n",
       "2 2019-11-28          16        0       1.0         0.0   1.0   \n",
       "3 2019-11-30          23        0       1.0         0.0   1.0   \n",
       "4 2019-12-01          16        0       0.0         1.0  -1.0   \n",
       "\n",
       "   Start_station_number   Start_station   Latitude  Longitude  ... cumu_sum  \\\n",
       "0                     0  22nd & H St NW  38.898925 -77.048852  ...      2.0   \n",
       "1                     0  22nd & H St NW  38.898925 -77.048852  ...      3.0   \n",
       "2                     0  22nd & H St NW  38.898925 -77.048852  ...      4.0   \n",
       "3                     0  22nd & H St NW  38.898925 -77.048852  ...      5.0   \n",
       "4                     0  22nd & H St NW  38.898925 -77.048852  ...      4.0   \n",
       "\n",
       "   percent_full weekday_num  weekend_flag       Date  TAVG  TMAX TMIN  PRCP  \\\n",
       "0      0.117647           1             0 2019-11-26    48    62   38  0.00   \n",
       "1      0.176471           2             0 2019-11-27    51    58   44  0.01   \n",
       "2      0.235294           3             0 2019-11-28    50    54   43  0.00   \n",
       "3      0.294118           5             1 2019-11-30    43    46   41  0.00   \n",
       "4      0.235294           6             1 2019-12-01    43    46   40  0.50   \n",
       "\n",
       "   SNOW  \n",
       "0   0.0  \n",
       "1   0.0  \n",
       "2   0.0  \n",
       "3   0.0  \n",
       "4   0.0  \n",
       "\n",
       "[5 rows x 23 columns]"
      ]
     },
     "execution_count": 119,
     "metadata": {},
     "output_type": "execute_result"
    }
   ],
   "source": [
    "# merging weather data onto data frame\n",
    "full_bike['Start_day'] = pd.to_datetime(full_bike['Start_day'])\n",
    "full_bike_data = pd.merge(full_bike, weather, how = 'left', left_on = 'Start_day', right_on = \"Date\")\n",
    "full_bike_data.head()"
   ]
  },
  {
   "cell_type": "code",
   "execution_count": 120,
   "id": "3820ed1f",
   "metadata": {},
   "outputs": [
    {
     "data": {
      "text/plain": [
       "DatetimeIndex(['2019-01-01', '2019-01-21', '2019-02-18', '2019-05-27',\n",
       "               '2019-07-04', '2019-09-02', '2019-10-14', '2019-11-11',\n",
       "               '2019-11-28', '2019-12-25'],\n",
       "              dtype='datetime64[ns]', freq=None)"
      ]
     },
     "execution_count": 120,
     "metadata": {},
     "output_type": "execute_result"
    }
   ],
   "source": [
    "# adding dates onto the dataframe - federal holidays\n",
    "from pandas.tseries.holiday import USFederalHolidayCalendar as calendar\n",
    "cal = calendar()\n",
    "holidays = cal.holidays(start= full_bike['Start_day'].min(), end=full_bike['Start_day'].max())\n",
    "holidays"
   ]
  },
  {
   "cell_type": "code",
   "execution_count": 121,
   "id": "703a4aec-5546-4fa7-a335-389857940d8c",
   "metadata": {},
   "outputs": [],
   "source": [
    "full_bike_data['Holiday'] = pd.to_datetime(full_bike_data['Start_day']).isin(holidays)"
   ]
  },
  {
   "cell_type": "code",
   "execution_count": 128,
   "id": "5003ea97",
   "metadata": {},
   "outputs": [
    {
     "name": "stdout",
     "output_type": "stream",
     "text": [
      "24\n"
     ]
    },
    {
     "data": {
      "text/html": [
       "<div>\n",
       "<style scoped>\n",
       "    .dataframe tbody tr th:only-of-type {\n",
       "        vertical-align: middle;\n",
       "    }\n",
       "\n",
       "    .dataframe tbody tr th {\n",
       "        vertical-align: top;\n",
       "    }\n",
       "\n",
       "    .dataframe thead th {\n",
       "        text-align: right;\n",
       "    }\n",
       "</style>\n",
       "<table border=\"1\" class=\"dataframe\">\n",
       "  <thead>\n",
       "    <tr style=\"text-align: right;\">\n",
       "      <th></th>\n",
       "      <th>Start_day</th>\n",
       "      <th>Start_hour</th>\n",
       "      <th>Station</th>\n",
       "      <th>Arrivals</th>\n",
       "      <th>Departures</th>\n",
       "      <th>Diff</th>\n",
       "      <th>Start_station_number</th>\n",
       "      <th>Start_station</th>\n",
       "      <th>Latitude</th>\n",
       "      <th>Longitude</th>\n",
       "      <th>...</th>\n",
       "      <th>percent_full</th>\n",
       "      <th>weekday_num</th>\n",
       "      <th>weekend_flag</th>\n",
       "      <th>Date</th>\n",
       "      <th>TAVG</th>\n",
       "      <th>TMAX</th>\n",
       "      <th>TMIN</th>\n",
       "      <th>PRCP</th>\n",
       "      <th>SNOW</th>\n",
       "      <th>Holiday</th>\n",
       "    </tr>\n",
       "  </thead>\n",
       "  <tbody>\n",
       "    <tr>\n",
       "      <th>0</th>\n",
       "      <td>2019-11-26</td>\n",
       "      <td>9</td>\n",
       "      <td>0</td>\n",
       "      <td>2.0</td>\n",
       "      <td>0.0</td>\n",
       "      <td>2.0</td>\n",
       "      <td>0</td>\n",
       "      <td>22nd &amp; H St NW</td>\n",
       "      <td>38.898925</td>\n",
       "      <td>-77.048852</td>\n",
       "      <td>...</td>\n",
       "      <td>0.117647</td>\n",
       "      <td>1</td>\n",
       "      <td>0</td>\n",
       "      <td>2019-11-26</td>\n",
       "      <td>48</td>\n",
       "      <td>62</td>\n",
       "      <td>38</td>\n",
       "      <td>0.00</td>\n",
       "      <td>0.0</td>\n",
       "      <td>False</td>\n",
       "    </tr>\n",
       "    <tr>\n",
       "      <th>1</th>\n",
       "      <td>2019-11-27</td>\n",
       "      <td>9</td>\n",
       "      <td>0</td>\n",
       "      <td>1.0</td>\n",
       "      <td>0.0</td>\n",
       "      <td>1.0</td>\n",
       "      <td>0</td>\n",
       "      <td>22nd &amp; H St NW</td>\n",
       "      <td>38.898925</td>\n",
       "      <td>-77.048852</td>\n",
       "      <td>...</td>\n",
       "      <td>0.176471</td>\n",
       "      <td>2</td>\n",
       "      <td>0</td>\n",
       "      <td>2019-11-27</td>\n",
       "      <td>51</td>\n",
       "      <td>58</td>\n",
       "      <td>44</td>\n",
       "      <td>0.01</td>\n",
       "      <td>0.0</td>\n",
       "      <td>False</td>\n",
       "    </tr>\n",
       "    <tr>\n",
       "      <th>2</th>\n",
       "      <td>2019-11-28</td>\n",
       "      <td>16</td>\n",
       "      <td>0</td>\n",
       "      <td>1.0</td>\n",
       "      <td>0.0</td>\n",
       "      <td>1.0</td>\n",
       "      <td>0</td>\n",
       "      <td>22nd &amp; H St NW</td>\n",
       "      <td>38.898925</td>\n",
       "      <td>-77.048852</td>\n",
       "      <td>...</td>\n",
       "      <td>0.235294</td>\n",
       "      <td>3</td>\n",
       "      <td>0</td>\n",
       "      <td>2019-11-28</td>\n",
       "      <td>50</td>\n",
       "      <td>54</td>\n",
       "      <td>43</td>\n",
       "      <td>0.00</td>\n",
       "      <td>0.0</td>\n",
       "      <td>True</td>\n",
       "    </tr>\n",
       "    <tr>\n",
       "      <th>3</th>\n",
       "      <td>2019-11-30</td>\n",
       "      <td>23</td>\n",
       "      <td>0</td>\n",
       "      <td>1.0</td>\n",
       "      <td>0.0</td>\n",
       "      <td>1.0</td>\n",
       "      <td>0</td>\n",
       "      <td>22nd &amp; H St NW</td>\n",
       "      <td>38.898925</td>\n",
       "      <td>-77.048852</td>\n",
       "      <td>...</td>\n",
       "      <td>0.294118</td>\n",
       "      <td>5</td>\n",
       "      <td>1</td>\n",
       "      <td>2019-11-30</td>\n",
       "      <td>43</td>\n",
       "      <td>46</td>\n",
       "      <td>41</td>\n",
       "      <td>0.00</td>\n",
       "      <td>0.0</td>\n",
       "      <td>False</td>\n",
       "    </tr>\n",
       "    <tr>\n",
       "      <th>4</th>\n",
       "      <td>2019-12-01</td>\n",
       "      <td>16</td>\n",
       "      <td>0</td>\n",
       "      <td>0.0</td>\n",
       "      <td>1.0</td>\n",
       "      <td>-1.0</td>\n",
       "      <td>0</td>\n",
       "      <td>22nd &amp; H St NW</td>\n",
       "      <td>38.898925</td>\n",
       "      <td>-77.048852</td>\n",
       "      <td>...</td>\n",
       "      <td>0.235294</td>\n",
       "      <td>6</td>\n",
       "      <td>1</td>\n",
       "      <td>2019-12-01</td>\n",
       "      <td>43</td>\n",
       "      <td>46</td>\n",
       "      <td>40</td>\n",
       "      <td>0.50</td>\n",
       "      <td>0.0</td>\n",
       "      <td>False</td>\n",
       "    </tr>\n",
       "  </tbody>\n",
       "</table>\n",
       "<p>5 rows × 24 columns</p>\n",
       "</div>"
      ],
      "text/plain": [
       "   Start_day  Start_hour  Station  Arrivals  Departures  Diff  \\\n",
       "0 2019-11-26           9        0       2.0         0.0   2.0   \n",
       "1 2019-11-27           9        0       1.0         0.0   1.0   \n",
       "2 2019-11-28          16        0       1.0         0.0   1.0   \n",
       "3 2019-11-30          23        0       1.0         0.0   1.0   \n",
       "4 2019-12-01          16        0       0.0         1.0  -1.0   \n",
       "\n",
       "   Start_station_number   Start_station   Latitude  Longitude  ...  \\\n",
       "0                     0  22nd & H St NW  38.898925 -77.048852  ...   \n",
       "1                     0  22nd & H St NW  38.898925 -77.048852  ...   \n",
       "2                     0  22nd & H St NW  38.898925 -77.048852  ...   \n",
       "3                     0  22nd & H St NW  38.898925 -77.048852  ...   \n",
       "4                     0  22nd & H St NW  38.898925 -77.048852  ...   \n",
       "\n",
       "  percent_full  weekday_num weekend_flag       Date  TAVG  TMAX  TMIN  PRCP  \\\n",
       "0     0.117647            1            0 2019-11-26    48    62    38  0.00   \n",
       "1     0.176471            2            0 2019-11-27    51    58    44  0.01   \n",
       "2     0.235294            3            0 2019-11-28    50    54    43  0.00   \n",
       "3     0.294118            5            1 2019-11-30    43    46    41  0.00   \n",
       "4     0.235294            6            1 2019-12-01    43    46    40  0.50   \n",
       "\n",
       "   SNOW  Holiday  \n",
       "0   0.0    False  \n",
       "1   0.0    False  \n",
       "2   0.0     True  \n",
       "3   0.0    False  \n",
       "4   0.0    False  \n",
       "\n",
       "[5 rows x 24 columns]"
      ]
     },
     "execution_count": 128,
     "metadata": {},
     "output_type": "execute_result"
    }
   ],
   "source": [
    "## cleaning up columns - only keep ones relevant to analysis\n",
    "print(len(full_bike_data.columns))\n",
    "full_bike_data.head()"
   ]
  },
  {
   "cell_type": "code",
   "execution_count": 130,
   "id": "97a9e0c6",
   "metadata": {},
   "outputs": [],
   "source": [
    "keepers = [\"Start_day\", \"Start_hour\", \"Arrivals\", \"Departures\", \"Diff\", 'Start_station_number', \"Start_station\", \"Latitude\", \"Longitude\", \"Capacity\", \"Region_name\", \"cumu_sum\", \"percent_full\", \"weekend_flag\", \"TAVG\", \"TMAX\", \"TMIN\", \"PRCP\", \"SNOW\", \"Holiday\"]"
   ]
  },
  {
   "cell_type": "code",
   "execution_count": 131,
   "id": "4bb9982c",
   "metadata": {},
   "outputs": [
    {
     "data": {
      "text/plain": [
       "20"
      ]
     },
     "execution_count": 131,
     "metadata": {},
     "output_type": "execute_result"
    }
   ],
   "source": [
    "len(keepers)"
   ]
  },
  {
   "cell_type": "code",
   "execution_count": 132,
   "id": "fba07178",
   "metadata": {},
   "outputs": [],
   "source": [
    "clean_data = full_bike_data[keepers]"
   ]
  },
  {
   "cell_type": "code",
   "execution_count": 133,
   "id": "848d2366",
   "metadata": {},
   "outputs": [],
   "source": [
    "#clean_data.to_csv(\"bikeshare_data.csv\")"
   ]
  }
 ],
 "metadata": {
  "kernelspec": {
   "display_name": "Python 3",
   "language": "python",
   "name": "python3"
  },
  "language_info": {
   "codemirror_mode": {
    "name": "ipython",
    "version": 3
   },
   "file_extension": ".py",
   "mimetype": "text/x-python",
   "name": "python",
   "nbconvert_exporter": "python",
   "pygments_lexer": "ipython3",
   "version": "3.8.8"
  },
  "varInspector": {
   "cols": {
    "lenName": 16,
    "lenType": 16,
    "lenVar": 40
   },
   "kernels_config": {
    "python": {
     "delete_cmd_postfix": "",
     "delete_cmd_prefix": "del ",
     "library": "var_list.py",
     "varRefreshCmd": "print(var_dic_list())"
    },
    "r": {
     "delete_cmd_postfix": ") ",
     "delete_cmd_prefix": "rm(",
     "library": "var_list.r",
     "varRefreshCmd": "cat(var_dic_list()) "
    }
   },
   "types_to_exclude": [
    "module",
    "function",
    "builtin_function_or_method",
    "instance",
    "_Feature"
   ],
   "window_display": false
  }
 },
 "nbformat": 4,
 "nbformat_minor": 5
}
